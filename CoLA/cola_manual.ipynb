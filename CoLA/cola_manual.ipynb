{
  "nbformat": 4,
  "nbformat_minor": 0,
  "metadata": {
    "colab": {
      "name": "cola_manual.ipynb",
      "provenance": [],
      "collapsed_sections": []
    },
    "kernelspec": {
      "name": "python3",
      "display_name": "Python 3"
    },
    "language_info": {
      "name": "python"
    },
    "widgets": {
      "application/vnd.jupyter.widget-state+json": {
        "3474a05d9f594d3187435dce957260f4": {
          "model_module": "@jupyter-widgets/controls",
          "model_name": "HBoxModel",
          "model_module_version": "1.5.0",
          "state": {
            "_view_name": "HBoxView",
            "_dom_classes": [],
            "_model_name": "HBoxModel",
            "_view_module": "@jupyter-widgets/controls",
            "_model_module_version": "1.5.0",
            "_view_count": null,
            "_view_module_version": "1.5.0",
            "box_style": "",
            "layout": "IPY_MODEL_fa80db8c4d1e4bbaafbdeafdfc977f62",
            "_model_module": "@jupyter-widgets/controls",
            "children": [
              "IPY_MODEL_62814b7bbabe4b5ab6cae2a3c5e07da1",
              "IPY_MODEL_dd04a8f373a249b1ba03c2748cac3802",
              "IPY_MODEL_28dcfdec7ef2499a8447dd8e0e76a380"
            ]
          }
        },
        "fa80db8c4d1e4bbaafbdeafdfc977f62": {
          "model_module": "@jupyter-widgets/base",
          "model_name": "LayoutModel",
          "model_module_version": "1.2.0",
          "state": {
            "_view_name": "LayoutView",
            "grid_template_rows": null,
            "right": null,
            "justify_content": null,
            "_view_module": "@jupyter-widgets/base",
            "overflow": null,
            "_model_module_version": "1.2.0",
            "_view_count": null,
            "flex_flow": null,
            "width": null,
            "min_width": null,
            "border": null,
            "align_items": null,
            "bottom": null,
            "_model_module": "@jupyter-widgets/base",
            "top": null,
            "grid_column": null,
            "overflow_y": null,
            "overflow_x": null,
            "grid_auto_flow": null,
            "grid_area": null,
            "grid_template_columns": null,
            "flex": null,
            "_model_name": "LayoutModel",
            "justify_items": null,
            "grid_row": null,
            "max_height": null,
            "align_content": null,
            "visibility": null,
            "align_self": null,
            "height": null,
            "min_height": null,
            "padding": null,
            "grid_auto_rows": null,
            "grid_gap": null,
            "max_width": null,
            "order": null,
            "_view_module_version": "1.2.0",
            "grid_template_areas": null,
            "object_position": null,
            "object_fit": null,
            "grid_auto_columns": null,
            "margin": null,
            "display": null,
            "left": null
          }
        },
        "62814b7bbabe4b5ab6cae2a3c5e07da1": {
          "model_module": "@jupyter-widgets/controls",
          "model_name": "HTMLModel",
          "model_module_version": "1.5.0",
          "state": {
            "_view_name": "HTMLView",
            "style": "IPY_MODEL_3cc67136d6684e8d84a3ae75e2d532bb",
            "_dom_classes": [],
            "description": "",
            "_model_name": "HTMLModel",
            "placeholder": "​",
            "_view_module": "@jupyter-widgets/controls",
            "_model_module_version": "1.5.0",
            "value": "Downloading: 100%",
            "_view_count": null,
            "_view_module_version": "1.5.0",
            "description_tooltip": null,
            "_model_module": "@jupyter-widgets/controls",
            "layout": "IPY_MODEL_fe438aa34bec4086a913cffe95f60ca2"
          }
        },
        "dd04a8f373a249b1ba03c2748cac3802": {
          "model_module": "@jupyter-widgets/controls",
          "model_name": "FloatProgressModel",
          "model_module_version": "1.5.0",
          "state": {
            "_view_name": "ProgressView",
            "style": "IPY_MODEL_e46727d6269a41c093fe2a5828586083",
            "_dom_classes": [],
            "description": "",
            "_model_name": "FloatProgressModel",
            "bar_style": "success",
            "max": 231508,
            "_view_module": "@jupyter-widgets/controls",
            "_model_module_version": "1.5.0",
            "value": 231508,
            "_view_count": null,
            "_view_module_version": "1.5.0",
            "orientation": "horizontal",
            "min": 0,
            "description_tooltip": null,
            "_model_module": "@jupyter-widgets/controls",
            "layout": "IPY_MODEL_8662e2b2907d4162a9ccb3ac1909fedd"
          }
        },
        "28dcfdec7ef2499a8447dd8e0e76a380": {
          "model_module": "@jupyter-widgets/controls",
          "model_name": "HTMLModel",
          "model_module_version": "1.5.0",
          "state": {
            "_view_name": "HTMLView",
            "style": "IPY_MODEL_8dc76c89689244dba82176ec38eca15a",
            "_dom_classes": [],
            "description": "",
            "_model_name": "HTMLModel",
            "placeholder": "​",
            "_view_module": "@jupyter-widgets/controls",
            "_model_module_version": "1.5.0",
            "value": " 226k/226k [00:00&lt;00:00, 745kB/s]",
            "_view_count": null,
            "_view_module_version": "1.5.0",
            "description_tooltip": null,
            "_model_module": "@jupyter-widgets/controls",
            "layout": "IPY_MODEL_793b741e6c53409bba8e54b4d2880f76"
          }
        },
        "3cc67136d6684e8d84a3ae75e2d532bb": {
          "model_module": "@jupyter-widgets/controls",
          "model_name": "DescriptionStyleModel",
          "model_module_version": "1.5.0",
          "state": {
            "_view_name": "StyleView",
            "_model_name": "DescriptionStyleModel",
            "description_width": "",
            "_view_module": "@jupyter-widgets/base",
            "_model_module_version": "1.5.0",
            "_view_count": null,
            "_view_module_version": "1.2.0",
            "_model_module": "@jupyter-widgets/controls"
          }
        },
        "fe438aa34bec4086a913cffe95f60ca2": {
          "model_module": "@jupyter-widgets/base",
          "model_name": "LayoutModel",
          "model_module_version": "1.2.0",
          "state": {
            "_view_name": "LayoutView",
            "grid_template_rows": null,
            "right": null,
            "justify_content": null,
            "_view_module": "@jupyter-widgets/base",
            "overflow": null,
            "_model_module_version": "1.2.0",
            "_view_count": null,
            "flex_flow": null,
            "width": null,
            "min_width": null,
            "border": null,
            "align_items": null,
            "bottom": null,
            "_model_module": "@jupyter-widgets/base",
            "top": null,
            "grid_column": null,
            "overflow_y": null,
            "overflow_x": null,
            "grid_auto_flow": null,
            "grid_area": null,
            "grid_template_columns": null,
            "flex": null,
            "_model_name": "LayoutModel",
            "justify_items": null,
            "grid_row": null,
            "max_height": null,
            "align_content": null,
            "visibility": null,
            "align_self": null,
            "height": null,
            "min_height": null,
            "padding": null,
            "grid_auto_rows": null,
            "grid_gap": null,
            "max_width": null,
            "order": null,
            "_view_module_version": "1.2.0",
            "grid_template_areas": null,
            "object_position": null,
            "object_fit": null,
            "grid_auto_columns": null,
            "margin": null,
            "display": null,
            "left": null
          }
        },
        "e46727d6269a41c093fe2a5828586083": {
          "model_module": "@jupyter-widgets/controls",
          "model_name": "ProgressStyleModel",
          "model_module_version": "1.5.0",
          "state": {
            "_view_name": "StyleView",
            "_model_name": "ProgressStyleModel",
            "description_width": "",
            "_view_module": "@jupyter-widgets/base",
            "_model_module_version": "1.5.0",
            "_view_count": null,
            "_view_module_version": "1.2.0",
            "bar_color": null,
            "_model_module": "@jupyter-widgets/controls"
          }
        },
        "8662e2b2907d4162a9ccb3ac1909fedd": {
          "model_module": "@jupyter-widgets/base",
          "model_name": "LayoutModel",
          "model_module_version": "1.2.0",
          "state": {
            "_view_name": "LayoutView",
            "grid_template_rows": null,
            "right": null,
            "justify_content": null,
            "_view_module": "@jupyter-widgets/base",
            "overflow": null,
            "_model_module_version": "1.2.0",
            "_view_count": null,
            "flex_flow": null,
            "width": null,
            "min_width": null,
            "border": null,
            "align_items": null,
            "bottom": null,
            "_model_module": "@jupyter-widgets/base",
            "top": null,
            "grid_column": null,
            "overflow_y": null,
            "overflow_x": null,
            "grid_auto_flow": null,
            "grid_area": null,
            "grid_template_columns": null,
            "flex": null,
            "_model_name": "LayoutModel",
            "justify_items": null,
            "grid_row": null,
            "max_height": null,
            "align_content": null,
            "visibility": null,
            "align_self": null,
            "height": null,
            "min_height": null,
            "padding": null,
            "grid_auto_rows": null,
            "grid_gap": null,
            "max_width": null,
            "order": null,
            "_view_module_version": "1.2.0",
            "grid_template_areas": null,
            "object_position": null,
            "object_fit": null,
            "grid_auto_columns": null,
            "margin": null,
            "display": null,
            "left": null
          }
        },
        "8dc76c89689244dba82176ec38eca15a": {
          "model_module": "@jupyter-widgets/controls",
          "model_name": "DescriptionStyleModel",
          "model_module_version": "1.5.0",
          "state": {
            "_view_name": "StyleView",
            "_model_name": "DescriptionStyleModel",
            "description_width": "",
            "_view_module": "@jupyter-widgets/base",
            "_model_module_version": "1.5.0",
            "_view_count": null,
            "_view_module_version": "1.2.0",
            "_model_module": "@jupyter-widgets/controls"
          }
        },
        "793b741e6c53409bba8e54b4d2880f76": {
          "model_module": "@jupyter-widgets/base",
          "model_name": "LayoutModel",
          "model_module_version": "1.2.0",
          "state": {
            "_view_name": "LayoutView",
            "grid_template_rows": null,
            "right": null,
            "justify_content": null,
            "_view_module": "@jupyter-widgets/base",
            "overflow": null,
            "_model_module_version": "1.2.0",
            "_view_count": null,
            "flex_flow": null,
            "width": null,
            "min_width": null,
            "border": null,
            "align_items": null,
            "bottom": null,
            "_model_module": "@jupyter-widgets/base",
            "top": null,
            "grid_column": null,
            "overflow_y": null,
            "overflow_x": null,
            "grid_auto_flow": null,
            "grid_area": null,
            "grid_template_columns": null,
            "flex": null,
            "_model_name": "LayoutModel",
            "justify_items": null,
            "grid_row": null,
            "max_height": null,
            "align_content": null,
            "visibility": null,
            "align_self": null,
            "height": null,
            "min_height": null,
            "padding": null,
            "grid_auto_rows": null,
            "grid_gap": null,
            "max_width": null,
            "order": null,
            "_view_module_version": "1.2.0",
            "grid_template_areas": null,
            "object_position": null,
            "object_fit": null,
            "grid_auto_columns": null,
            "margin": null,
            "display": null,
            "left": null
          }
        },
        "e471d61dad3f49039afad8bce2e1a276": {
          "model_module": "@jupyter-widgets/controls",
          "model_name": "HBoxModel",
          "model_module_version": "1.5.0",
          "state": {
            "_view_name": "HBoxView",
            "_dom_classes": [],
            "_model_name": "HBoxModel",
            "_view_module": "@jupyter-widgets/controls",
            "_model_module_version": "1.5.0",
            "_view_count": null,
            "_view_module_version": "1.5.0",
            "box_style": "",
            "layout": "IPY_MODEL_ec43578571c64253be9ac0a8bc98a6c8",
            "_model_module": "@jupyter-widgets/controls",
            "children": [
              "IPY_MODEL_853215bf930141e0ab7cdb4899fb473f",
              "IPY_MODEL_de777b2282804e73bffca7962b82b70f",
              "IPY_MODEL_54e1ff4c24b14c719a3103c680a758b5"
            ]
          }
        },
        "ec43578571c64253be9ac0a8bc98a6c8": {
          "model_module": "@jupyter-widgets/base",
          "model_name": "LayoutModel",
          "model_module_version": "1.2.0",
          "state": {
            "_view_name": "LayoutView",
            "grid_template_rows": null,
            "right": null,
            "justify_content": null,
            "_view_module": "@jupyter-widgets/base",
            "overflow": null,
            "_model_module_version": "1.2.0",
            "_view_count": null,
            "flex_flow": null,
            "width": null,
            "min_width": null,
            "border": null,
            "align_items": null,
            "bottom": null,
            "_model_module": "@jupyter-widgets/base",
            "top": null,
            "grid_column": null,
            "overflow_y": null,
            "overflow_x": null,
            "grid_auto_flow": null,
            "grid_area": null,
            "grid_template_columns": null,
            "flex": null,
            "_model_name": "LayoutModel",
            "justify_items": null,
            "grid_row": null,
            "max_height": null,
            "align_content": null,
            "visibility": null,
            "align_self": null,
            "height": null,
            "min_height": null,
            "padding": null,
            "grid_auto_rows": null,
            "grid_gap": null,
            "max_width": null,
            "order": null,
            "_view_module_version": "1.2.0",
            "grid_template_areas": null,
            "object_position": null,
            "object_fit": null,
            "grid_auto_columns": null,
            "margin": null,
            "display": null,
            "left": null
          }
        },
        "853215bf930141e0ab7cdb4899fb473f": {
          "model_module": "@jupyter-widgets/controls",
          "model_name": "HTMLModel",
          "model_module_version": "1.5.0",
          "state": {
            "_view_name": "HTMLView",
            "style": "IPY_MODEL_b77a9662fb0249cc91effaa7fa58c68f",
            "_dom_classes": [],
            "description": "",
            "_model_name": "HTMLModel",
            "placeholder": "​",
            "_view_module": "@jupyter-widgets/controls",
            "_model_module_version": "1.5.0",
            "value": "Downloading: 100%",
            "_view_count": null,
            "_view_module_version": "1.5.0",
            "description_tooltip": null,
            "_model_module": "@jupyter-widgets/controls",
            "layout": "IPY_MODEL_f9b37901aaf343aa864a46b14f8bfab9"
          }
        },
        "de777b2282804e73bffca7962b82b70f": {
          "model_module": "@jupyter-widgets/controls",
          "model_name": "FloatProgressModel",
          "model_module_version": "1.5.0",
          "state": {
            "_view_name": "ProgressView",
            "style": "IPY_MODEL_3494b8e6aa8242c9b3947d68f2518840",
            "_dom_classes": [],
            "description": "",
            "_model_name": "FloatProgressModel",
            "bar_style": "success",
            "max": 28,
            "_view_module": "@jupyter-widgets/controls",
            "_model_module_version": "1.5.0",
            "value": 28,
            "_view_count": null,
            "_view_module_version": "1.5.0",
            "orientation": "horizontal",
            "min": 0,
            "description_tooltip": null,
            "_model_module": "@jupyter-widgets/controls",
            "layout": "IPY_MODEL_58214d8d1623473b9768bedcb22cc82a"
          }
        },
        "54e1ff4c24b14c719a3103c680a758b5": {
          "model_module": "@jupyter-widgets/controls",
          "model_name": "HTMLModel",
          "model_module_version": "1.5.0",
          "state": {
            "_view_name": "HTMLView",
            "style": "IPY_MODEL_9be27d8b321649f3a21d5a2226e002ca",
            "_dom_classes": [],
            "description": "",
            "_model_name": "HTMLModel",
            "placeholder": "​",
            "_view_module": "@jupyter-widgets/controls",
            "_model_module_version": "1.5.0",
            "value": " 28.0/28.0 [00:00&lt;00:00, 831B/s]",
            "_view_count": null,
            "_view_module_version": "1.5.0",
            "description_tooltip": null,
            "_model_module": "@jupyter-widgets/controls",
            "layout": "IPY_MODEL_76c6c3565c1a4d84b8909b7e067cfb5a"
          }
        },
        "b77a9662fb0249cc91effaa7fa58c68f": {
          "model_module": "@jupyter-widgets/controls",
          "model_name": "DescriptionStyleModel",
          "model_module_version": "1.5.0",
          "state": {
            "_view_name": "StyleView",
            "_model_name": "DescriptionStyleModel",
            "description_width": "",
            "_view_module": "@jupyter-widgets/base",
            "_model_module_version": "1.5.0",
            "_view_count": null,
            "_view_module_version": "1.2.0",
            "_model_module": "@jupyter-widgets/controls"
          }
        },
        "f9b37901aaf343aa864a46b14f8bfab9": {
          "model_module": "@jupyter-widgets/base",
          "model_name": "LayoutModel",
          "model_module_version": "1.2.0",
          "state": {
            "_view_name": "LayoutView",
            "grid_template_rows": null,
            "right": null,
            "justify_content": null,
            "_view_module": "@jupyter-widgets/base",
            "overflow": null,
            "_model_module_version": "1.2.0",
            "_view_count": null,
            "flex_flow": null,
            "width": null,
            "min_width": null,
            "border": null,
            "align_items": null,
            "bottom": null,
            "_model_module": "@jupyter-widgets/base",
            "top": null,
            "grid_column": null,
            "overflow_y": null,
            "overflow_x": null,
            "grid_auto_flow": null,
            "grid_area": null,
            "grid_template_columns": null,
            "flex": null,
            "_model_name": "LayoutModel",
            "justify_items": null,
            "grid_row": null,
            "max_height": null,
            "align_content": null,
            "visibility": null,
            "align_self": null,
            "height": null,
            "min_height": null,
            "padding": null,
            "grid_auto_rows": null,
            "grid_gap": null,
            "max_width": null,
            "order": null,
            "_view_module_version": "1.2.0",
            "grid_template_areas": null,
            "object_position": null,
            "object_fit": null,
            "grid_auto_columns": null,
            "margin": null,
            "display": null,
            "left": null
          }
        },
        "3494b8e6aa8242c9b3947d68f2518840": {
          "model_module": "@jupyter-widgets/controls",
          "model_name": "ProgressStyleModel",
          "model_module_version": "1.5.0",
          "state": {
            "_view_name": "StyleView",
            "_model_name": "ProgressStyleModel",
            "description_width": "",
            "_view_module": "@jupyter-widgets/base",
            "_model_module_version": "1.5.0",
            "_view_count": null,
            "_view_module_version": "1.2.0",
            "bar_color": null,
            "_model_module": "@jupyter-widgets/controls"
          }
        },
        "58214d8d1623473b9768bedcb22cc82a": {
          "model_module": "@jupyter-widgets/base",
          "model_name": "LayoutModel",
          "model_module_version": "1.2.0",
          "state": {
            "_view_name": "LayoutView",
            "grid_template_rows": null,
            "right": null,
            "justify_content": null,
            "_view_module": "@jupyter-widgets/base",
            "overflow": null,
            "_model_module_version": "1.2.0",
            "_view_count": null,
            "flex_flow": null,
            "width": null,
            "min_width": null,
            "border": null,
            "align_items": null,
            "bottom": null,
            "_model_module": "@jupyter-widgets/base",
            "top": null,
            "grid_column": null,
            "overflow_y": null,
            "overflow_x": null,
            "grid_auto_flow": null,
            "grid_area": null,
            "grid_template_columns": null,
            "flex": null,
            "_model_name": "LayoutModel",
            "justify_items": null,
            "grid_row": null,
            "max_height": null,
            "align_content": null,
            "visibility": null,
            "align_self": null,
            "height": null,
            "min_height": null,
            "padding": null,
            "grid_auto_rows": null,
            "grid_gap": null,
            "max_width": null,
            "order": null,
            "_view_module_version": "1.2.0",
            "grid_template_areas": null,
            "object_position": null,
            "object_fit": null,
            "grid_auto_columns": null,
            "margin": null,
            "display": null,
            "left": null
          }
        },
        "9be27d8b321649f3a21d5a2226e002ca": {
          "model_module": "@jupyter-widgets/controls",
          "model_name": "DescriptionStyleModel",
          "model_module_version": "1.5.0",
          "state": {
            "_view_name": "StyleView",
            "_model_name": "DescriptionStyleModel",
            "description_width": "",
            "_view_module": "@jupyter-widgets/base",
            "_model_module_version": "1.5.0",
            "_view_count": null,
            "_view_module_version": "1.2.0",
            "_model_module": "@jupyter-widgets/controls"
          }
        },
        "76c6c3565c1a4d84b8909b7e067cfb5a": {
          "model_module": "@jupyter-widgets/base",
          "model_name": "LayoutModel",
          "model_module_version": "1.2.0",
          "state": {
            "_view_name": "LayoutView",
            "grid_template_rows": null,
            "right": null,
            "justify_content": null,
            "_view_module": "@jupyter-widgets/base",
            "overflow": null,
            "_model_module_version": "1.2.0",
            "_view_count": null,
            "flex_flow": null,
            "width": null,
            "min_width": null,
            "border": null,
            "align_items": null,
            "bottom": null,
            "_model_module": "@jupyter-widgets/base",
            "top": null,
            "grid_column": null,
            "overflow_y": null,
            "overflow_x": null,
            "grid_auto_flow": null,
            "grid_area": null,
            "grid_template_columns": null,
            "flex": null,
            "_model_name": "LayoutModel",
            "justify_items": null,
            "grid_row": null,
            "max_height": null,
            "align_content": null,
            "visibility": null,
            "align_self": null,
            "height": null,
            "min_height": null,
            "padding": null,
            "grid_auto_rows": null,
            "grid_gap": null,
            "max_width": null,
            "order": null,
            "_view_module_version": "1.2.0",
            "grid_template_areas": null,
            "object_position": null,
            "object_fit": null,
            "grid_auto_columns": null,
            "margin": null,
            "display": null,
            "left": null
          }
        },
        "4a92cc92f7884d5eb1df9b512ea162a1": {
          "model_module": "@jupyter-widgets/controls",
          "model_name": "HBoxModel",
          "model_module_version": "1.5.0",
          "state": {
            "_view_name": "HBoxView",
            "_dom_classes": [],
            "_model_name": "HBoxModel",
            "_view_module": "@jupyter-widgets/controls",
            "_model_module_version": "1.5.0",
            "_view_count": null,
            "_view_module_version": "1.5.0",
            "box_style": "",
            "layout": "IPY_MODEL_6ff55f00972d46f29f9a14fb9a2e8a3a",
            "_model_module": "@jupyter-widgets/controls",
            "children": [
              "IPY_MODEL_74b51acbe1ce48db9d03873b8deecb0d",
              "IPY_MODEL_aa80ef2dc7aa4163b739b6bfbe3fb37d",
              "IPY_MODEL_eae8b7cd5b744a8c9019e0b34edae501"
            ]
          }
        },
        "6ff55f00972d46f29f9a14fb9a2e8a3a": {
          "model_module": "@jupyter-widgets/base",
          "model_name": "LayoutModel",
          "model_module_version": "1.2.0",
          "state": {
            "_view_name": "LayoutView",
            "grid_template_rows": null,
            "right": null,
            "justify_content": null,
            "_view_module": "@jupyter-widgets/base",
            "overflow": null,
            "_model_module_version": "1.2.0",
            "_view_count": null,
            "flex_flow": null,
            "width": null,
            "min_width": null,
            "border": null,
            "align_items": null,
            "bottom": null,
            "_model_module": "@jupyter-widgets/base",
            "top": null,
            "grid_column": null,
            "overflow_y": null,
            "overflow_x": null,
            "grid_auto_flow": null,
            "grid_area": null,
            "grid_template_columns": null,
            "flex": null,
            "_model_name": "LayoutModel",
            "justify_items": null,
            "grid_row": null,
            "max_height": null,
            "align_content": null,
            "visibility": null,
            "align_self": null,
            "height": null,
            "min_height": null,
            "padding": null,
            "grid_auto_rows": null,
            "grid_gap": null,
            "max_width": null,
            "order": null,
            "_view_module_version": "1.2.0",
            "grid_template_areas": null,
            "object_position": null,
            "object_fit": null,
            "grid_auto_columns": null,
            "margin": null,
            "display": null,
            "left": null
          }
        },
        "74b51acbe1ce48db9d03873b8deecb0d": {
          "model_module": "@jupyter-widgets/controls",
          "model_name": "HTMLModel",
          "model_module_version": "1.5.0",
          "state": {
            "_view_name": "HTMLView",
            "style": "IPY_MODEL_b528534aca7f4074b62f0dd43719bb19",
            "_dom_classes": [],
            "description": "",
            "_model_name": "HTMLModel",
            "placeholder": "​",
            "_view_module": "@jupyter-widgets/controls",
            "_model_module_version": "1.5.0",
            "value": "Downloading: 100%",
            "_view_count": null,
            "_view_module_version": "1.5.0",
            "description_tooltip": null,
            "_model_module": "@jupyter-widgets/controls",
            "layout": "IPY_MODEL_71497b7f54a54a8bbec9173489a5300b"
          }
        },
        "aa80ef2dc7aa4163b739b6bfbe3fb37d": {
          "model_module": "@jupyter-widgets/controls",
          "model_name": "FloatProgressModel",
          "model_module_version": "1.5.0",
          "state": {
            "_view_name": "ProgressView",
            "style": "IPY_MODEL_840f86935eca4ceba49f4d9182ab2e73",
            "_dom_classes": [],
            "description": "",
            "_model_name": "FloatProgressModel",
            "bar_style": "success",
            "max": 466062,
            "_view_module": "@jupyter-widgets/controls",
            "_model_module_version": "1.5.0",
            "value": 466062,
            "_view_count": null,
            "_view_module_version": "1.5.0",
            "orientation": "horizontal",
            "min": 0,
            "description_tooltip": null,
            "_model_module": "@jupyter-widgets/controls",
            "layout": "IPY_MODEL_5ffa43771c6749dfa6071ae6b9b9507b"
          }
        },
        "eae8b7cd5b744a8c9019e0b34edae501": {
          "model_module": "@jupyter-widgets/controls",
          "model_name": "HTMLModel",
          "model_module_version": "1.5.0",
          "state": {
            "_view_name": "HTMLView",
            "style": "IPY_MODEL_37426e274e78497da6cd287121904b90",
            "_dom_classes": [],
            "description": "",
            "_model_name": "HTMLModel",
            "placeholder": "​",
            "_view_module": "@jupyter-widgets/controls",
            "_model_module_version": "1.5.0",
            "value": " 455k/455k [00:00&lt;00:00, 642kB/s]",
            "_view_count": null,
            "_view_module_version": "1.5.0",
            "description_tooltip": null,
            "_model_module": "@jupyter-widgets/controls",
            "layout": "IPY_MODEL_f6b715b7b31c40fd9f8326bcc039fe55"
          }
        },
        "b528534aca7f4074b62f0dd43719bb19": {
          "model_module": "@jupyter-widgets/controls",
          "model_name": "DescriptionStyleModel",
          "model_module_version": "1.5.0",
          "state": {
            "_view_name": "StyleView",
            "_model_name": "DescriptionStyleModel",
            "description_width": "",
            "_view_module": "@jupyter-widgets/base",
            "_model_module_version": "1.5.0",
            "_view_count": null,
            "_view_module_version": "1.2.0",
            "_model_module": "@jupyter-widgets/controls"
          }
        },
        "71497b7f54a54a8bbec9173489a5300b": {
          "model_module": "@jupyter-widgets/base",
          "model_name": "LayoutModel",
          "model_module_version": "1.2.0",
          "state": {
            "_view_name": "LayoutView",
            "grid_template_rows": null,
            "right": null,
            "justify_content": null,
            "_view_module": "@jupyter-widgets/base",
            "overflow": null,
            "_model_module_version": "1.2.0",
            "_view_count": null,
            "flex_flow": null,
            "width": null,
            "min_width": null,
            "border": null,
            "align_items": null,
            "bottom": null,
            "_model_module": "@jupyter-widgets/base",
            "top": null,
            "grid_column": null,
            "overflow_y": null,
            "overflow_x": null,
            "grid_auto_flow": null,
            "grid_area": null,
            "grid_template_columns": null,
            "flex": null,
            "_model_name": "LayoutModel",
            "justify_items": null,
            "grid_row": null,
            "max_height": null,
            "align_content": null,
            "visibility": null,
            "align_self": null,
            "height": null,
            "min_height": null,
            "padding": null,
            "grid_auto_rows": null,
            "grid_gap": null,
            "max_width": null,
            "order": null,
            "_view_module_version": "1.2.0",
            "grid_template_areas": null,
            "object_position": null,
            "object_fit": null,
            "grid_auto_columns": null,
            "margin": null,
            "display": null,
            "left": null
          }
        },
        "840f86935eca4ceba49f4d9182ab2e73": {
          "model_module": "@jupyter-widgets/controls",
          "model_name": "ProgressStyleModel",
          "model_module_version": "1.5.0",
          "state": {
            "_view_name": "StyleView",
            "_model_name": "ProgressStyleModel",
            "description_width": "",
            "_view_module": "@jupyter-widgets/base",
            "_model_module_version": "1.5.0",
            "_view_count": null,
            "_view_module_version": "1.2.0",
            "bar_color": null,
            "_model_module": "@jupyter-widgets/controls"
          }
        },
        "5ffa43771c6749dfa6071ae6b9b9507b": {
          "model_module": "@jupyter-widgets/base",
          "model_name": "LayoutModel",
          "model_module_version": "1.2.0",
          "state": {
            "_view_name": "LayoutView",
            "grid_template_rows": null,
            "right": null,
            "justify_content": null,
            "_view_module": "@jupyter-widgets/base",
            "overflow": null,
            "_model_module_version": "1.2.0",
            "_view_count": null,
            "flex_flow": null,
            "width": null,
            "min_width": null,
            "border": null,
            "align_items": null,
            "bottom": null,
            "_model_module": "@jupyter-widgets/base",
            "top": null,
            "grid_column": null,
            "overflow_y": null,
            "overflow_x": null,
            "grid_auto_flow": null,
            "grid_area": null,
            "grid_template_columns": null,
            "flex": null,
            "_model_name": "LayoutModel",
            "justify_items": null,
            "grid_row": null,
            "max_height": null,
            "align_content": null,
            "visibility": null,
            "align_self": null,
            "height": null,
            "min_height": null,
            "padding": null,
            "grid_auto_rows": null,
            "grid_gap": null,
            "max_width": null,
            "order": null,
            "_view_module_version": "1.2.0",
            "grid_template_areas": null,
            "object_position": null,
            "object_fit": null,
            "grid_auto_columns": null,
            "margin": null,
            "display": null,
            "left": null
          }
        },
        "37426e274e78497da6cd287121904b90": {
          "model_module": "@jupyter-widgets/controls",
          "model_name": "DescriptionStyleModel",
          "model_module_version": "1.5.0",
          "state": {
            "_view_name": "StyleView",
            "_model_name": "DescriptionStyleModel",
            "description_width": "",
            "_view_module": "@jupyter-widgets/base",
            "_model_module_version": "1.5.0",
            "_view_count": null,
            "_view_module_version": "1.2.0",
            "_model_module": "@jupyter-widgets/controls"
          }
        },
        "f6b715b7b31c40fd9f8326bcc039fe55": {
          "model_module": "@jupyter-widgets/base",
          "model_name": "LayoutModel",
          "model_module_version": "1.2.0",
          "state": {
            "_view_name": "LayoutView",
            "grid_template_rows": null,
            "right": null,
            "justify_content": null,
            "_view_module": "@jupyter-widgets/base",
            "overflow": null,
            "_model_module_version": "1.2.0",
            "_view_count": null,
            "flex_flow": null,
            "width": null,
            "min_width": null,
            "border": null,
            "align_items": null,
            "bottom": null,
            "_model_module": "@jupyter-widgets/base",
            "top": null,
            "grid_column": null,
            "overflow_y": null,
            "overflow_x": null,
            "grid_auto_flow": null,
            "grid_area": null,
            "grid_template_columns": null,
            "flex": null,
            "_model_name": "LayoutModel",
            "justify_items": null,
            "grid_row": null,
            "max_height": null,
            "align_content": null,
            "visibility": null,
            "align_self": null,
            "height": null,
            "min_height": null,
            "padding": null,
            "grid_auto_rows": null,
            "grid_gap": null,
            "max_width": null,
            "order": null,
            "_view_module_version": "1.2.0",
            "grid_template_areas": null,
            "object_position": null,
            "object_fit": null,
            "grid_auto_columns": null,
            "margin": null,
            "display": null,
            "left": null
          }
        },
        "b5340ba2d267495da7f97d87bf66c960": {
          "model_module": "@jupyter-widgets/controls",
          "model_name": "HBoxModel",
          "model_module_version": "1.5.0",
          "state": {
            "_view_name": "HBoxView",
            "_dom_classes": [],
            "_model_name": "HBoxModel",
            "_view_module": "@jupyter-widgets/controls",
            "_model_module_version": "1.5.0",
            "_view_count": null,
            "_view_module_version": "1.5.0",
            "box_style": "",
            "layout": "IPY_MODEL_000cc7c4c28f4d0a80680ffc68ab0804",
            "_model_module": "@jupyter-widgets/controls",
            "children": [
              "IPY_MODEL_6a6a08fa3e4f4c8dbbfb0f09c935a06d",
              "IPY_MODEL_ef3495a4a1eb4d7ba298a0479d0a5cd9",
              "IPY_MODEL_a2b87b6b0f094dd3b82844e9077ec9da"
            ]
          }
        },
        "000cc7c4c28f4d0a80680ffc68ab0804": {
          "model_module": "@jupyter-widgets/base",
          "model_name": "LayoutModel",
          "model_module_version": "1.2.0",
          "state": {
            "_view_name": "LayoutView",
            "grid_template_rows": null,
            "right": null,
            "justify_content": null,
            "_view_module": "@jupyter-widgets/base",
            "overflow": null,
            "_model_module_version": "1.2.0",
            "_view_count": null,
            "flex_flow": null,
            "width": null,
            "min_width": null,
            "border": null,
            "align_items": null,
            "bottom": null,
            "_model_module": "@jupyter-widgets/base",
            "top": null,
            "grid_column": null,
            "overflow_y": null,
            "overflow_x": null,
            "grid_auto_flow": null,
            "grid_area": null,
            "grid_template_columns": null,
            "flex": null,
            "_model_name": "LayoutModel",
            "justify_items": null,
            "grid_row": null,
            "max_height": null,
            "align_content": null,
            "visibility": null,
            "align_self": null,
            "height": null,
            "min_height": null,
            "padding": null,
            "grid_auto_rows": null,
            "grid_gap": null,
            "max_width": null,
            "order": null,
            "_view_module_version": "1.2.0",
            "grid_template_areas": null,
            "object_position": null,
            "object_fit": null,
            "grid_auto_columns": null,
            "margin": null,
            "display": null,
            "left": null
          }
        },
        "6a6a08fa3e4f4c8dbbfb0f09c935a06d": {
          "model_module": "@jupyter-widgets/controls",
          "model_name": "HTMLModel",
          "model_module_version": "1.5.0",
          "state": {
            "_view_name": "HTMLView",
            "style": "IPY_MODEL_a009b22829b1449fbfd58d4e1a90603e",
            "_dom_classes": [],
            "description": "",
            "_model_name": "HTMLModel",
            "placeholder": "​",
            "_view_module": "@jupyter-widgets/controls",
            "_model_module_version": "1.5.0",
            "value": "Downloading: 100%",
            "_view_count": null,
            "_view_module_version": "1.5.0",
            "description_tooltip": null,
            "_model_module": "@jupyter-widgets/controls",
            "layout": "IPY_MODEL_518e8cf4c87f479d9144674deb5a8228"
          }
        },
        "ef3495a4a1eb4d7ba298a0479d0a5cd9": {
          "model_module": "@jupyter-widgets/controls",
          "model_name": "FloatProgressModel",
          "model_module_version": "1.5.0",
          "state": {
            "_view_name": "ProgressView",
            "style": "IPY_MODEL_457e78870c5e4042a3e234db9b6a5af5",
            "_dom_classes": [],
            "description": "",
            "_model_name": "FloatProgressModel",
            "bar_style": "success",
            "max": 570,
            "_view_module": "@jupyter-widgets/controls",
            "_model_module_version": "1.5.0",
            "value": 570,
            "_view_count": null,
            "_view_module_version": "1.5.0",
            "orientation": "horizontal",
            "min": 0,
            "description_tooltip": null,
            "_model_module": "@jupyter-widgets/controls",
            "layout": "IPY_MODEL_166ad08c6c5b4cb988a9136d4fb7c41a"
          }
        },
        "a2b87b6b0f094dd3b82844e9077ec9da": {
          "model_module": "@jupyter-widgets/controls",
          "model_name": "HTMLModel",
          "model_module_version": "1.5.0",
          "state": {
            "_view_name": "HTMLView",
            "style": "IPY_MODEL_98a7db71c2224cae840b66ceeab9b470",
            "_dom_classes": [],
            "description": "",
            "_model_name": "HTMLModel",
            "placeholder": "​",
            "_view_module": "@jupyter-widgets/controls",
            "_model_module_version": "1.5.0",
            "value": " 570/570 [00:00&lt;00:00, 17.7kB/s]",
            "_view_count": null,
            "_view_module_version": "1.5.0",
            "description_tooltip": null,
            "_model_module": "@jupyter-widgets/controls",
            "layout": "IPY_MODEL_9c5a8df1ef0d48c98c9e1b107d636285"
          }
        },
        "a009b22829b1449fbfd58d4e1a90603e": {
          "model_module": "@jupyter-widgets/controls",
          "model_name": "DescriptionStyleModel",
          "model_module_version": "1.5.0",
          "state": {
            "_view_name": "StyleView",
            "_model_name": "DescriptionStyleModel",
            "description_width": "",
            "_view_module": "@jupyter-widgets/base",
            "_model_module_version": "1.5.0",
            "_view_count": null,
            "_view_module_version": "1.2.0",
            "_model_module": "@jupyter-widgets/controls"
          }
        },
        "518e8cf4c87f479d9144674deb5a8228": {
          "model_module": "@jupyter-widgets/base",
          "model_name": "LayoutModel",
          "model_module_version": "1.2.0",
          "state": {
            "_view_name": "LayoutView",
            "grid_template_rows": null,
            "right": null,
            "justify_content": null,
            "_view_module": "@jupyter-widgets/base",
            "overflow": null,
            "_model_module_version": "1.2.0",
            "_view_count": null,
            "flex_flow": null,
            "width": null,
            "min_width": null,
            "border": null,
            "align_items": null,
            "bottom": null,
            "_model_module": "@jupyter-widgets/base",
            "top": null,
            "grid_column": null,
            "overflow_y": null,
            "overflow_x": null,
            "grid_auto_flow": null,
            "grid_area": null,
            "grid_template_columns": null,
            "flex": null,
            "_model_name": "LayoutModel",
            "justify_items": null,
            "grid_row": null,
            "max_height": null,
            "align_content": null,
            "visibility": null,
            "align_self": null,
            "height": null,
            "min_height": null,
            "padding": null,
            "grid_auto_rows": null,
            "grid_gap": null,
            "max_width": null,
            "order": null,
            "_view_module_version": "1.2.0",
            "grid_template_areas": null,
            "object_position": null,
            "object_fit": null,
            "grid_auto_columns": null,
            "margin": null,
            "display": null,
            "left": null
          }
        },
        "457e78870c5e4042a3e234db9b6a5af5": {
          "model_module": "@jupyter-widgets/controls",
          "model_name": "ProgressStyleModel",
          "model_module_version": "1.5.0",
          "state": {
            "_view_name": "StyleView",
            "_model_name": "ProgressStyleModel",
            "description_width": "",
            "_view_module": "@jupyter-widgets/base",
            "_model_module_version": "1.5.0",
            "_view_count": null,
            "_view_module_version": "1.2.0",
            "bar_color": null,
            "_model_module": "@jupyter-widgets/controls"
          }
        },
        "166ad08c6c5b4cb988a9136d4fb7c41a": {
          "model_module": "@jupyter-widgets/base",
          "model_name": "LayoutModel",
          "model_module_version": "1.2.0",
          "state": {
            "_view_name": "LayoutView",
            "grid_template_rows": null,
            "right": null,
            "justify_content": null,
            "_view_module": "@jupyter-widgets/base",
            "overflow": null,
            "_model_module_version": "1.2.0",
            "_view_count": null,
            "flex_flow": null,
            "width": null,
            "min_width": null,
            "border": null,
            "align_items": null,
            "bottom": null,
            "_model_module": "@jupyter-widgets/base",
            "top": null,
            "grid_column": null,
            "overflow_y": null,
            "overflow_x": null,
            "grid_auto_flow": null,
            "grid_area": null,
            "grid_template_columns": null,
            "flex": null,
            "_model_name": "LayoutModel",
            "justify_items": null,
            "grid_row": null,
            "max_height": null,
            "align_content": null,
            "visibility": null,
            "align_self": null,
            "height": null,
            "min_height": null,
            "padding": null,
            "grid_auto_rows": null,
            "grid_gap": null,
            "max_width": null,
            "order": null,
            "_view_module_version": "1.2.0",
            "grid_template_areas": null,
            "object_position": null,
            "object_fit": null,
            "grid_auto_columns": null,
            "margin": null,
            "display": null,
            "left": null
          }
        },
        "98a7db71c2224cae840b66ceeab9b470": {
          "model_module": "@jupyter-widgets/controls",
          "model_name": "DescriptionStyleModel",
          "model_module_version": "1.5.0",
          "state": {
            "_view_name": "StyleView",
            "_model_name": "DescriptionStyleModel",
            "description_width": "",
            "_view_module": "@jupyter-widgets/base",
            "_model_module_version": "1.5.0",
            "_view_count": null,
            "_view_module_version": "1.2.0",
            "_model_module": "@jupyter-widgets/controls"
          }
        },
        "9c5a8df1ef0d48c98c9e1b107d636285": {
          "model_module": "@jupyter-widgets/base",
          "model_name": "LayoutModel",
          "model_module_version": "1.2.0",
          "state": {
            "_view_name": "LayoutView",
            "grid_template_rows": null,
            "right": null,
            "justify_content": null,
            "_view_module": "@jupyter-widgets/base",
            "overflow": null,
            "_model_module_version": "1.2.0",
            "_view_count": null,
            "flex_flow": null,
            "width": null,
            "min_width": null,
            "border": null,
            "align_items": null,
            "bottom": null,
            "_model_module": "@jupyter-widgets/base",
            "top": null,
            "grid_column": null,
            "overflow_y": null,
            "overflow_x": null,
            "grid_auto_flow": null,
            "grid_area": null,
            "grid_template_columns": null,
            "flex": null,
            "_model_name": "LayoutModel",
            "justify_items": null,
            "grid_row": null,
            "max_height": null,
            "align_content": null,
            "visibility": null,
            "align_self": null,
            "height": null,
            "min_height": null,
            "padding": null,
            "grid_auto_rows": null,
            "grid_gap": null,
            "max_width": null,
            "order": null,
            "_view_module_version": "1.2.0",
            "grid_template_areas": null,
            "object_position": null,
            "object_fit": null,
            "grid_auto_columns": null,
            "margin": null,
            "display": null,
            "left": null
          }
        }
      }
    },
    "accelerator": "GPU"
  },
  "cells": [
    {
      "cell_type": "code",
      "metadata": {
        "id": "Xx4y1QvirSne"
      },
      "source": [
        "# Original dataset is downloaded from https://nyu-mll.github.io/CoLA/\n",
        "# It is in form of txt file and has parse tree along with the data, \n",
        "# I am filtering these data to just have sentence, acceptability"
      ],
      "execution_count": null,
      "outputs": []
    },
    {
      "cell_type": "code",
      "metadata": {
        "colab": {
          "base_uri": "https://localhost:8080/"
        },
        "id": "SlkKDfhntT8w",
        "outputId": "6e0d19d9-106a-47c6-8d1a-ad079f12e3c9"
      },
      "source": [
        "from google.colab import drive\n",
        "drive.mount('/content/drive')"
      ],
      "execution_count": 1,
      "outputs": [
        {
          "output_type": "stream",
          "name": "stdout",
          "text": [
            "Mounted at /content/drive\n"
          ]
        }
      ]
    },
    {
      "cell_type": "code",
      "metadata": {
        "id": "a4kMuHucruCH"
      },
      "source": [
        "import os\n",
        "import torch\n",
        "import random\n",
        "import numpy as np\n",
        "import pandas as pd\n",
        "import matplotlib.pyplot as plt\n",
        "\n",
        "COLA_model_path = \"COLA_models\"\n",
        "os.chdir('/content/drive/MyDrive/Studies/NLP_PROJECT')"
      ],
      "execution_count": 2,
      "outputs": []
    },
    {
      "cell_type": "code",
      "metadata": {
        "id": "IzcfwvuItPP3"
      },
      "source": [
        "DATASET_COLUMNS_COLA = ['acceptability', 'sentence']\n",
        "DATASET_ENCODING = \"ISO-8859-1\"\n",
        "org_dataset = pd.read_csv('original_cola.csv', encoding=DATASET_ENCODING, names=DATASET_COLUMNS_COLA, usecols=DATASET_COLUMNS_COLA, header=None)\n",
        "my_dataset = pd.read_csv('my_cola.csv', encoding=DATASET_ENCODING, names=DATASET_COLUMNS_COLA, usecols=DATASET_COLUMNS_COLA, header=None)\n",
        "# dataset = pd.read_csv('training.1600000.processed.noemoticon.csv', encoding=DATASET_ENCODING, names=DATASET_COLUMNS, usecols=[q1, q2, is_duplicate], header=Noneencoding=DATASET_ENCODING, names=DATASET_COLUMNS, usecols=['target', 'text'], header=None)"
      ],
      "execution_count": 3,
      "outputs": []
    },
    {
      "cell_type": "code",
      "metadata": {
        "colab": {
          "base_uri": "https://localhost:8080/"
        },
        "id": "27JWVepbuFwK",
        "outputId": "d00557bc-b990-42de-8eb1-ea15ce350392"
      },
      "source": [
        "print(org_dataset.head(), my_dataset.head())"
      ],
      "execution_count": 4,
      "outputs": [
        {
          "output_type": "stream",
          "name": "stdout",
          "text": [
            "   acceptability                                           sentence\n",
            "0  acceptability                                           sentence\n",
            "1              1  One more pseudo generalization and I'm giving up.\n",
            "2              1   One more pseudo generalization or I'm giving up.\n",
            "3              1     The more we study verbs, the crazier they get.\n",
            "4              1          Day by day the facts are getting murkier.    acceptability                                           sentence\n",
            "0  acceptability                                           sentence\n",
            "1              1  a expect low-sex worker can receptive, to been...\n",
            "2              0  Puppies born of two different breeds in a litter.\n",
            "3              1  what done as or use many an everyday expressio...\n",
            "4              0  What will happen to the man's girlfriend after...\n"
          ]
        }
      ]
    },
    {
      "cell_type": "code",
      "metadata": {
        "colab": {
          "base_uri": "https://localhost:8080/"
        },
        "id": "LBqyVUOpunA3",
        "outputId": "74815dfd-0b75-4d84-b6ed-10653b3dd7c2"
      },
      "source": [
        "org_dataset = org_dataset.dropna()\n",
        "org_dataset.isnull().sum()"
      ],
      "execution_count": 5,
      "outputs": [
        {
          "output_type": "execute_result",
          "data": {
            "text/plain": [
              "acceptability    0\n",
              "sentence         0\n",
              "dtype: int64"
            ]
          },
          "metadata": {},
          "execution_count": 5
        }
      ]
    },
    {
      "cell_type": "code",
      "metadata": {
        "colab": {
          "base_uri": "https://localhost:8080/"
        },
        "id": "KPK8wg-ButH-",
        "outputId": "333b5ffc-8d4c-4af9-a614-dc6798b5f7fc"
      },
      "source": [
        "my_dataset = my_dataset.dropna()\n",
        "my_dataset.isnull().sum()"
      ],
      "execution_count": 6,
      "outputs": [
        {
          "output_type": "execute_result",
          "data": {
            "text/plain": [
              "acceptability    0\n",
              "sentence         0\n",
              "dtype: int64"
            ]
          },
          "metadata": {},
          "execution_count": 6
        }
      ]
    },
    {
      "cell_type": "code",
      "metadata": {
        "colab": {
          "base_uri": "https://localhost:8080/",
          "height": 296
        },
        "id": "HwLJ5Ag0v6V-",
        "outputId": "9f9bf26c-47d8-4706-d922-fa169cb0c37b"
      },
      "source": [
        "import seaborn as sns\n",
        "sns.countplot(x='acceptability', data=org_dataset)\n",
        "print(org_dataset.shape)"
      ],
      "execution_count": 7,
      "outputs": [
        {
          "output_type": "stream",
          "name": "stdout",
          "text": [
            "(8551, 2)\n"
          ]
        },
        {
          "output_type": "display_data",
          "data": {
            "image/png": "[encoded data removed]",
            "text/plain": [
              "<Figure size 432x288 with 1 Axes>"
            ]
          },
          "metadata": {
            "needs_background": "light"
          }
        }
      ]
    },
    {
      "cell_type": "code",
      "metadata": {
        "colab": {
          "base_uri": "https://localhost:8080/",
          "height": 300
        },
        "id": "Ab0kIU_fv-vM",
        "outputId": "71854f9c-e7f4-46cc-b4ba-c1ecdf49bcd5"
      },
      "source": [
        "sns.countplot(x='acceptability', data=my_dataset)\n",
        "print(my_dataset.shape)"
      ],
      "execution_count": 8,
      "outputs": [
        {
          "output_type": "stream",
          "name": "stdout",
          "text": [
            "(38182, 2)\n"
          ]
        },
        {
          "output_type": "display_data",
          "data": {
            "image/png": "[encoded data removed]",
            "text/plain": [
              "<Figure size 432x288 with 1 Axes>"
            ]
          },
          "metadata": {
            "needs_background": "light"
          }
        }
      ]
    },
    {
      "cell_type": "code",
      "metadata": {
        "colab": {
          "base_uri": "https://localhost:8080/"
        },
        "id": "MMOvA1I-uMcV",
        "outputId": "849e8156-f8ba-4278-cb45-0e08bf61b161"
      },
      "source": [
        "print(org_dataset.shape)\n",
        "org_dataset.info()\n",
        "print(org_dataset.acceptability.unique())\n",
        "print(\"\\n\"+\"#\"*80)\n",
        "print(my_dataset.shape)\n",
        "my_dataset.info()\n",
        "print(my_dataset.acceptability.unique())"
      ],
      "execution_count": 9,
      "outputs": [
        {
          "output_type": "stream",
          "name": "stdout",
          "text": [
            "(8551, 2)\n",
            "<class 'pandas.core.frame.DataFrame'>\n",
            "Int64Index: 8551 entries, 0 to 8550\n",
            "Data columns (total 2 columns):\n",
            " #   Column         Non-Null Count  Dtype \n",
            "---  ------         --------------  ----- \n",
            " 0   acceptability  8551 non-null   object\n",
            " 1   sentence       8551 non-null   object\n",
            "dtypes: object(2)\n",
            "memory usage: 520.4+ KB\n",
            "['acceptability' '1' '0']\n",
            "\n",
            "################################################################################\n",
            "(38182, 2)\n",
            "<class 'pandas.core.frame.DataFrame'>\n",
            "Int64Index: 38182 entries, 0 to 38181\n",
            "Data columns (total 2 columns):\n",
            " #   Column         Non-Null Count  Dtype \n",
            "---  ------         --------------  ----- \n",
            " 0   acceptability  38182 non-null  object\n",
            " 1   sentence       38182 non-null  object\n",
            "dtypes: object(2)\n",
            "memory usage: 2.1+ MB\n",
            "['acceptability' '1' '0']\n"
          ]
        }
      ]
    },
    {
      "cell_type": "code",
      "metadata": {
        "id": "wI_sfsyou3hj"
      },
      "source": [
        "# Skipping(headers)\n",
        "org_dataset = org_dataset[1:]\n",
        "my_dataset = my_dataset[1:]"
      ],
      "execution_count": 10,
      "outputs": []
    },
    {
      "cell_type": "code",
      "metadata": {
        "colab": {
          "base_uri": "https://localhost:8080/"
        },
        "id": "P5peDMmvMISW",
        "outputId": "09c7a551-6a5b-4e2c-d648-9cd18bbecd1d"
      },
      "source": [
        "org_dataset['acceptability'] = org_dataset['acceptability'].replace('0', 0)\n",
        "org_dataset['acceptability'] = org_dataset['acceptability'].replace('1', 1)\n",
        "my_dataset['acceptability'] = my_dataset['acceptability'].replace('0', 0)\n",
        "my_dataset['acceptability'] = my_dataset['acceptability'].replace('1', 1)"
      ],
      "execution_count": 11,
      "outputs": [
        {
          "output_type": "stream",
          "name": "stderr",
          "text": [
            "/usr/local/lib/python3.7/dist-packages/ipykernel_launcher.py:1: SettingWithCopyWarning: \n",
            "A value is trying to be set on a copy of a slice from a DataFrame.\n",
            "Try using .loc[row_indexer,col_indexer] = value instead\n",
            "\n",
            "See the caveats in the documentation: https://pandas.pydata.org/pandas-docs/stable/user_guide/indexing.html#returning-a-view-versus-a-copy\n",
            "  \"\"\"Entry point for launching an IPython kernel.\n",
            "/usr/local/lib/python3.7/dist-packages/ipykernel_launcher.py:2: SettingWithCopyWarning: \n",
            "A value is trying to be set on a copy of a slice from a DataFrame.\n",
            "Try using .loc[row_indexer,col_indexer] = value instead\n",
            "\n",
            "See the caveats in the documentation: https://pandas.pydata.org/pandas-docs/stable/user_guide/indexing.html#returning-a-view-versus-a-copy\n",
            "  \n",
            "/usr/local/lib/python3.7/dist-packages/ipykernel_launcher.py:3: SettingWithCopyWarning: \n",
            "A value is trying to be set on a copy of a slice from a DataFrame.\n",
            "Try using .loc[row_indexer,col_indexer] = value instead\n",
            "\n",
            "See the caveats in the documentation: https://pandas.pydata.org/pandas-docs/stable/user_guide/indexing.html#returning-a-view-versus-a-copy\n",
            "  This is separate from the ipykernel package so we can avoid doing imports until\n"
          ]
        }
      ]
    },
    {
      "cell_type": "code",
      "metadata": {
        "id": "MImatYgnwoSg"
      },
      "source": [
        "# So the actual dataset size is ~400k and mine is 21k ~5% of the datset.\n",
        "# Downsample original data to 20944, so both models are trained on same number of data.\n",
        "from sklearn.model_selection import train_test_split\n",
        "sampled_org_dataset, _ = train_test_split(org_dataset, train_size=8500, stratify=org_dataset['acceptability'])\n",
        "train_org_dataset, validation_org_dataset = train_test_split(sampled_org_dataset, train_size=0.8, stratify=sampled_org_dataset['acceptability'])\n",
        "validation_org_dataset, test_org_dataset = train_test_split(validation_org_dataset, train_size=0.5, stratify=validation_org_dataset['acceptability'])\n",
        "sampled_my_dataset, _ = train_test_split(my_dataset, train_size=8500)\n",
        "train_my_dataset, validation_my_dataset = train_test_split(my_dataset, train_size=0.8, stratify=my_dataset['acceptability'])\n",
        "validation_my_dataset,  _ = train_test_split(validation_my_dataset, train_size=0.5, stratify=validation_my_dataset['acceptability'])"
      ],
      "execution_count": 12,
      "outputs": []
    },
    {
      "cell_type": "code",
      "metadata": {
        "colab": {
          "base_uri": "https://localhost:8080/",
          "height": 299
        },
        "id": "NtGixwQlx-tK",
        "outputId": "72a4adea-9315-4db6-e058-0d6109f60b25"
      },
      "source": [
        "sns.countplot(x='acceptability', data=train_org_dataset)"
      ],
      "execution_count": 13,
      "outputs": [
        {
          "output_type": "execute_result",
          "data": {
            "text/plain": [
              "<matplotlib.axes._subplots.AxesSubplot at 0x7ff3ba8db150>"
            ]
          },
          "metadata": {},
          "execution_count": 13
        },
        {
          "output_type": "display_data",
          "data": {
            "image/png": "[encoded data removed]",
            "text/plain": [
              "<Figure size 432x288 with 1 Axes>"
            ]
          },
          "metadata": {
            "needs_background": "light"
          }
        }
      ]
    },
    {
      "cell_type": "code",
      "metadata": {
        "colab": {
          "base_uri": "https://localhost:8080/",
          "height": 300
        },
        "id": "-_mDap9SzBJI",
        "outputId": "b53d80e6-2c76-4207-979b-d86c8e31326d"
      },
      "source": [
        "sns.countplot(x='acceptability', data=train_my_dataset)"
      ],
      "execution_count": 14,
      "outputs": [
        {
          "output_type": "execute_result",
          "data": {
            "text/plain": [
              "<matplotlib.axes._subplots.AxesSubplot at 0x7ff3b9021f50>"
            ]
          },
          "metadata": {},
          "execution_count": 14
        },
        {
          "output_type": "display_data",
          "data": {
            "image/png": "[encoded data removed]",
            "text/plain": [
              "<Figure size 432x288 with 1 Axes>"
            ]
          },
          "metadata": {
            "needs_background": "light"
          }
        }
      ]
    },
    {
      "cell_type": "code",
      "metadata": {
        "id": "IaYdVD621GXB"
      },
      "source": [
        "train_org = \"train_org.csv\"\n",
        "val_org = \"val_org.csv\"\n",
        "test_org = \"test_org.csv\"\n",
        "train_my = \"train_my.csv\"\n",
        "val_my = \"val_my.csv\"\n",
        "train_org_dataset.to_csv(os.path.join(COLA_model_path, train_org))\n",
        "validation_org_dataset.to_csv(os.path.join(COLA_model_path, val_org))\n",
        "test_org_dataset.to_csv(os.path.join(COLA_model_path, test_org))\n",
        "train_my_dataset.to_csv(os.path.join(COLA_model_path, train_my))\n",
        "validation_my_dataset.to_csv(os.path.join(COLA_model_path, val_my))"
      ],
      "execution_count": 15,
      "outputs": []
    },
    {
      "cell_type": "code",
      "metadata": {
        "colab": {
          "base_uri": "https://localhost:8080/",
          "height": 825,
          "referenced_widgets": [
            "3474a05d9f594d3187435dce957260f4",
            "fa80db8c4d1e4bbaafbdeafdfc977f62",
            "62814b7bbabe4b5ab6cae2a3c5e07da1",
            "dd04a8f373a249b1ba03c2748cac3802",
            "28dcfdec7ef2499a8447dd8e0e76a380",
            "3cc67136d6684e8d84a3ae75e2d532bb",
            "fe438aa34bec4086a913cffe95f60ca2",
            "e46727d6269a41c093fe2a5828586083",
            "8662e2b2907d4162a9ccb3ac1909fedd",
            "8dc76c89689244dba82176ec38eca15a",
            "793b741e6c53409bba8e54b4d2880f76",
            "e471d61dad3f49039afad8bce2e1a276",
            "ec43578571c64253be9ac0a8bc98a6c8",
            "853215bf930141e0ab7cdb4899fb473f",
            "de777b2282804e73bffca7962b82b70f",
            "54e1ff4c24b14c719a3103c680a758b5",
            "b77a9662fb0249cc91effaa7fa58c68f",
            "f9b37901aaf343aa864a46b14f8bfab9",
            "3494b8e6aa8242c9b3947d68f2518840",
            "58214d8d1623473b9768bedcb22cc82a",
            "9be27d8b321649f3a21d5a2226e002ca",
            "76c6c3565c1a4d84b8909b7e067cfb5a",
            "4a92cc92f7884d5eb1df9b512ea162a1",
            "6ff55f00972d46f29f9a14fb9a2e8a3a",
            "74b51acbe1ce48db9d03873b8deecb0d",
            "aa80ef2dc7aa4163b739b6bfbe3fb37d",
            "eae8b7cd5b744a8c9019e0b34edae501",
            "b528534aca7f4074b62f0dd43719bb19",
            "71497b7f54a54a8bbec9173489a5300b",
            "840f86935eca4ceba49f4d9182ab2e73",
            "5ffa43771c6749dfa6071ae6b9b9507b",
            "37426e274e78497da6cd287121904b90",
            "f6b715b7b31c40fd9f8326bcc039fe55",
            "b5340ba2d267495da7f97d87bf66c960",
            "000cc7c4c28f4d0a80680ffc68ab0804",
            "6a6a08fa3e4f4c8dbbfb0f09c935a06d",
            "ef3495a4a1eb4d7ba298a0479d0a5cd9",
            "a2b87b6b0f094dd3b82844e9077ec9da",
            "a009b22829b1449fbfd58d4e1a90603e",
            "518e8cf4c87f479d9144674deb5a8228",
            "457e78870c5e4042a3e234db9b6a5af5",
            "166ad08c6c5b4cb988a9136d4fb7c41a",
            "98a7db71c2224cae840b66ceeab9b470",
            "9c5a8df1ef0d48c98c9e1b107d636285"
          ]
        },
        "id": "jLo_ENOuiohI",
        "outputId": "0940e35b-d3d4-4709-c5b6-af7b80fefedd"
      },
      "source": [
        "!pip install transformers\n",
        "from transformers import BertTokenizer\n",
        "tokenizer = BertTokenizer.from_pretrained('bert-base-uncased')"
      ],
      "execution_count": 17,
      "outputs": [
        {
          "output_type": "stream",
          "name": "stdout",
          "text": [
            "Collecting transformers\n",
            "  Downloading transformers-4.12.5-py3-none-any.whl (3.1 MB)\n",
            "\u001b[K     |████████████████████████████████| 3.1 MB 14.0 MB/s \n",
            "\u001b[?25hCollecting pyyaml>=5.1\n",
            "  Downloading PyYAML-6.0-cp37-cp37m-manylinux_2_5_x86_64.manylinux1_x86_64.manylinux_2_12_x86_64.manylinux2010_x86_64.whl (596 kB)\n",
            "\u001b[K     |████████████████████████████████| 596 kB 53.0 MB/s \n",
            "\u001b[?25hRequirement already satisfied: numpy>=1.17 in /usr/local/lib/python3.7/dist-packages (from transformers) (1.19.5)\n",
            "Requirement already satisfied: importlib-metadata in /usr/local/lib/python3.7/dist-packages (from transformers) (4.8.2)\n",
            "Collecting huggingface-hub<1.0,>=0.1.0\n",
            "  Downloading huggingface_hub-0.2.1-py3-none-any.whl (61 kB)\n",
            "\u001b[K     |████████████████████████████████| 61 kB 682 kB/s \n",
            "\u001b[?25hRequirement already satisfied: filelock in /usr/local/lib/python3.7/dist-packages (from transformers) (3.4.0)\n",
            "Collecting sacremoses\n",
            "  Downloading sacremoses-0.0.46-py3-none-any.whl (895 kB)\n",
            "\u001b[K     |████████████████████████████████| 895 kB 75.5 MB/s \n",
            "\u001b[?25hRequirement already satisfied: requests in /usr/local/lib/python3.7/dist-packages (from transformers) (2.23.0)\n",
            "Collecting tokenizers<0.11,>=0.10.1\n",
            "  Downloading tokenizers-0.10.3-cp37-cp37m-manylinux_2_5_x86_64.manylinux1_x86_64.manylinux_2_12_x86_64.manylinux2010_x86_64.whl (3.3 MB)\n",
            "\u001b[K     |████████████████████████████████| 3.3 MB 50.9 MB/s \n",
            "\u001b[?25hRequirement already satisfied: packaging>=20.0 in /usr/local/lib/python3.7/dist-packages (from transformers) (21.3)\n",
            "Requirement already satisfied: tqdm>=4.27 in /usr/local/lib/python3.7/dist-packages (from transformers) (4.62.3)\n",
            "Requirement already satisfied: regex!=2019.12.17 in /usr/local/lib/python3.7/dist-packages (from transformers) (2019.12.20)\n",
            "Requirement already satisfied: typing-extensions>=3.7.4.3 in /usr/local/lib/python3.7/dist-packages (from huggingface-hub<1.0,>=0.1.0->transformers) (3.10.0.2)\n",
            "Requirement already satisfied: pyparsing!=3.0.5,>=2.0.2 in /usr/local/lib/python3.7/dist-packages (from packaging>=20.0->transformers) (3.0.6)\n",
            "Requirement already satisfied: zipp>=0.5 in /usr/local/lib/python3.7/dist-packages (from importlib-metadata->transformers) (3.6.0)\n",
            "Requirement already satisfied: urllib3!=1.25.0,!=1.25.1,<1.26,>=1.21.1 in /usr/local/lib/python3.7/dist-packages (from requests->transformers) (1.24.3)\n",
            "Requirement already satisfied: certifi>=2017.4.17 in /usr/local/lib/python3.7/dist-packages (from requests->transformers) (2021.10.8)\n",
            "Requirement already satisfied: idna<3,>=2.5 in /usr/local/lib/python3.7/dist-packages (from requests->transformers) (2.10)\n",
            "Requirement already satisfied: chardet<4,>=3.0.2 in /usr/local/lib/python3.7/dist-packages (from requests->transformers) (3.0.4)\n",
            "Requirement already satisfied: joblib in /usr/local/lib/python3.7/dist-packages (from sacremoses->transformers) (1.1.0)\n",
            "Requirement already satisfied: six in /usr/local/lib/python3.7/dist-packages (from sacremoses->transformers) (1.15.0)\n",
            "Requirement already satisfied: click in /usr/local/lib/python3.7/dist-packages (from sacremoses->transformers) (7.1.2)\n",
            "Installing collected packages: pyyaml, tokenizers, sacremoses, huggingface-hub, transformers\n",
            "  Attempting uninstall: pyyaml\n",
            "    Found existing installation: PyYAML 3.13\n",
            "    Uninstalling PyYAML-3.13:\n",
            "      Successfully uninstalled PyYAML-3.13\n",
            "Successfully installed huggingface-hub-0.2.1 pyyaml-6.0 sacremoses-0.0.46 tokenizers-0.10.3 transformers-4.12.5\n"
          ]
        },
        {
          "output_type": "display_data",
          "data": {
            "application/vnd.jupyter.widget-view+json": {
              "model_id": "3474a05d9f594d3187435dce957260f4",
              "version_minor": 0,
              "version_major": 2
            },
            "text/plain": [
              "Downloading:   0%|          | 0.00/226k [00:00<?, ?B/s]"
            ]
          },
          "metadata": {}
        },
        {
          "output_type": "display_data",
          "data": {
            "application/vnd.jupyter.widget-view+json": {
              "model_id": "e471d61dad3f49039afad8bce2e1a276",
              "version_minor": 0,
              "version_major": 2
            },
            "text/plain": [
              "Downloading:   0%|          | 0.00/28.0 [00:00<?, ?B/s]"
            ]
          },
          "metadata": {}
        },
        {
          "output_type": "display_data",
          "data": {
            "application/vnd.jupyter.widget-view+json": {
              "model_id": "4a92cc92f7884d5eb1df9b512ea162a1",
              "version_minor": 0,
              "version_major": 2
            },
            "text/plain": [
              "Downloading:   0%|          | 0.00/455k [00:00<?, ?B/s]"
            ]
          },
          "metadata": {}
        },
        {
          "output_type": "display_data",
          "data": {
            "application/vnd.jupyter.widget-view+json": {
              "model_id": "b5340ba2d267495da7f97d87bf66c960",
              "version_minor": 0,
              "version_major": 2
            },
            "text/plain": [
              "Downloading:   0%|          | 0.00/570 [00:00<?, ?B/s]"
            ]
          },
          "metadata": {}
        }
      ]
    },
    {
      "cell_type": "code",
      "metadata": {
        "id": "vU2n9bcijCFm"
      },
      "source": [
        "max_input_length = tokenizer.max_model_input_sizes['bert-base-uncased']\n",
        "def tokenize_sentence(sentence):\n",
        "    tokens = tokenizer.tokenize(sentence) \n",
        "    tokens = tokens[:max_input_length-2]\n",
        "    return tokens"
      ],
      "execution_count": 18,
      "outputs": []
    },
    {
      "cell_type": "code",
      "metadata": {
        "id": "rrfOwBkWjCbO"
      },
      "source": [
        "import torch\n",
        "from torchtext.legacy import data\n",
        "\n",
        "init_token_idx = tokenizer.cls_token_id\n",
        "eos_token_idx = tokenizer.sep_token_id\n",
        "pad_token_idx = tokenizer.pad_token_id\n",
        "unk_token_idx = tokenizer.unk_token_id\n",
        "\n",
        "TEXT = data.Field(batch_first = True,\n",
        "                  use_vocab = False,\n",
        "                  tokenize = tokenize_sentence,\n",
        "                  preprocessing = tokenizer.convert_tokens_to_ids,\n",
        "                  init_token = init_token_idx,\n",
        "                  eos_token = eos_token_idx,\n",
        "                  pad_token = pad_token_idx,\n",
        "                  unk_token = unk_token_idx)\n",
        "\n",
        "LABEL = data.LabelField(dtype = torch.float)\n",
        "#First colum has serial num used for random split, ignore it.\n",
        "fields = [(None, None),('label', LABEL), ('text', TEXT)]\n",
        "train_data, valid_data, test_data = data.TabularDataset.splits(\n",
        "                                        path = COLA_model_path,\n",
        "                                        train = 'train_org.csv',\n",
        "                                        validation = 'val_org.csv',\n",
        "                                        test = 'test_org.csv',\n",
        "                                        format = 'csv',\n",
        "                                        fields = fields,\n",
        "                                        skip_header = True)\n",
        "MAX_VOCAB_SIZE = 25_000\n",
        "TEXT.build_vocab(train_data, max_size = MAX_VOCAB_SIZE)\n",
        "LABEL.build_vocab(train_data)\n",
        "BATCH_SIZE = 128\n",
        "device = torch.device('cuda' if torch.cuda.is_available() else 'cpu')\n",
        "\n",
        "train_iterator, valid_iterator, test_iterator = data.BucketIterator.splits(\n",
        "    (train_data, valid_data, test_data), \n",
        "    batch_size = BATCH_SIZE,\n",
        "    shuffle=True,\n",
        "    sort=False,\n",
        "    device = device)"
      ],
      "execution_count": 22,
      "outputs": []
    },
    {
      "cell_type": "code",
      "metadata": {
        "colab": {
          "base_uri": "https://localhost:8080/"
        },
        "id": "e1DAhbmdlKgc",
        "outputId": "59cec410-a4a1-4e7c-c34a-2f9821cff641"
      },
      "source": [
        "import torch.nn as nn\n",
        "import torch.nn.functional as F\n",
        "from transformers import BertModel\n",
        "bert = BertModel.from_pretrained('bert-base-uncased')\n",
        "\n",
        "class BERTSentiment(nn.Module):\n",
        "    def __init__(self, bert, output_dim, dropout):\n",
        "        super().__init__()\n",
        "        self.bert = bert\n",
        "        embedding_dim = bert.config.to_dict()['hidden_size']\n",
        "        self.lin1 = nn.Linear(embedding_dim, 512, bias=True)\n",
        "        self.lin2 = nn.Linear(512, 256, bias=True)\n",
        "        self.lin3 = nn.Linear(256, 128, bias=True)\n",
        "        self.lin4 = nn.Linear(128, 64, bias=True)\n",
        "        self.dropout = nn.Dropout(dropout)\n",
        "        self.out = nn.Linear(64, output_dim)\n",
        "        self.relu = torch.nn.ReLU()\n",
        "        \n",
        "    def forward(self, text):\n",
        "      \n",
        "        with torch.no_grad():\n",
        "            embedded = self.bert(text)[0]\n",
        "        hidden = self.relu(self.lin1(embedded))\n",
        "        hidden = self.dropout(hidden)\n",
        "        hidden = self.relu(self.lin2(hidden))\n",
        "        hidden = self.dropout(hidden)\n",
        "        hidden = self.relu(self.lin3(hidden))\n",
        "        hidden = self.dropout(hidden)\n",
        "        hidden = self.relu(self.lin4(hidden))\n",
        "        hidden = self.dropout(hidden)\n",
        "        hidden = self.out(hidden)\n",
        "        #Reduce the dimension from [128, length, 1] to [128, 1]\n",
        "        hidden = torch.mean(hidden, dim=1)\n",
        "        return hidden\n",
        "\n",
        "model = BERTSentiment(bert, 1, 0.3)\n",
        "for name, param in model.named_parameters():                \n",
        "    if name.startswith('bert'):\n",
        "        param.requires_grad = False\n",
        "\n",
        "import torch.optim as optim\n",
        "optimizer = optim.Adam(model.parameters())\n",
        "criterion = nn.BCEWithLogitsLoss()\n",
        "device = torch.device('cuda' if torch.cuda.is_available() else 'cpu')\n",
        "model = model.to(device)\n",
        "criterion = criterion.to(device)"
      ],
      "execution_count": 23,
      "outputs": [
        {
          "output_type": "stream",
          "name": "stderr",
          "text": [
            "Some weights of the model checkpoint at bert-base-uncased were not used when initializing BertModel: ['cls.predictions.transform.LayerNorm.bias', 'cls.predictions.transform.LayerNorm.weight', 'cls.seq_relationship.bias', 'cls.predictions.transform.dense.bias', 'cls.seq_relationship.weight', 'cls.predictions.transform.dense.weight', 'cls.predictions.bias', 'cls.predictions.decoder.weight']\n",
            "- This IS expected if you are initializing BertModel from the checkpoint of a model trained on another task or with another architecture (e.g. initializing a BertForSequenceClassification model from a BertForPreTraining model).\n",
            "- This IS NOT expected if you are initializing BertModel from the checkpoint of a model that you expect to be exactly identical (initializing a BertForSequenceClassification model from a BertForSequenceClassification model).\n"
          ]
        }
      ]
    },
    {
      "cell_type": "code",
      "metadata": {
        "colab": {
          "base_uri": "https://localhost:8080/"
        },
        "id": "5Dn71Y4ilK0T",
        "outputId": "9e01da1d-c318-45da-9b5b-1b5520570e4c"
      },
      "source": [
        "def binary_accuracy(preds, y):\n",
        "    rounded_preds = torch.round(torch.sigmoid(preds))\n",
        "    correct = (rounded_preds == y).float() \n",
        "    acc = correct.sum() / len(correct)\n",
        "    return acc\n",
        "\n",
        "def train(model, iterator, optimizer, criterion):\n",
        "    epoch_loss = 0\n",
        "    epoch_acc = 0\n",
        "    model.train()\n",
        "    for batch in iterator:\n",
        "        optimizer.zero_grad()       \n",
        "        predictions = model(batch.text).squeeze(1)\n",
        "        loss = criterion(predictions, batch.label)       \n",
        "        acc = binary_accuracy(predictions, batch.label)     \n",
        "        loss.backward()        \n",
        "        optimizer.step()       \n",
        "        epoch_loss += loss.item()\n",
        "        epoch_acc += acc.item()\n",
        "        \n",
        "    return epoch_loss / len(iterator), epoch_acc / len(iterator)\n",
        "\n",
        "def evaluate(model, iterator, criterion):\n",
        "    \n",
        "    epoch_loss = 0\n",
        "    epoch_acc = 0    \n",
        "    model.eval()\n",
        "    \n",
        "    with torch.no_grad():   \n",
        "        for batch in iterator:\n",
        "            predictions = model(batch.text).squeeze(1)           \n",
        "            loss = criterion(predictions, batch.label)           \n",
        "            acc = binary_accuracy(predictions, batch.label)\n",
        "            epoch_loss += loss.item()\n",
        "            epoch_acc += acc.item()\n",
        "        \n",
        "    return epoch_loss / len(iterator), epoch_acc / len(iterator)\n",
        "\n",
        "\n",
        "import time\n",
        "def epoch_time(start_time, end_time):\n",
        "    elapsed_time = end_time - start_time\n",
        "    elapsed_mins = int(elapsed_time / 60)\n",
        "    elapsed_secs = int(elapsed_time - (elapsed_mins * 60))\n",
        "    return elapsed_mins, elapsed_secs\n",
        "\n",
        "N_EPOCHS = 50\n",
        "\n",
        "best_valid_loss = float('inf')\n",
        "\n",
        "for epoch in range(N_EPOCHS):\n",
        "    \n",
        "    start_time = time.time()\n",
        "    \n",
        "    train_loss, train_acc = train(model, train_iterator, optimizer, criterion)\n",
        "    valid_loss, valid_acc = evaluate(model, valid_iterator, criterion)\n",
        "        \n",
        "    end_time = time.time()\n",
        "        \n",
        "    epoch_mins, epoch_secs = epoch_time(start_time, end_time)\n",
        "        \n",
        "    if valid_loss < best_valid_loss:\n",
        "        best_valid_loss = valid_loss\n",
        "        torch.save(model.state_dict(), 'bert-model.pt')\n",
        "    \n",
        "    print(f'Epoch: {epoch+1:02} | Epoch Time: {epoch_mins}m {epoch_secs}s')\n",
        "    print(f'\\tTrain Loss: {train_loss:.3f} | Train Acc: {train_acc*100:.2f}%')\n",
        "    print(f'\\t Val. Loss: {valid_loss:.3f} |  Val. Acc: {valid_acc*100:.2f}%')\n",
        "\n",
        "test_loss, test_acc = evaluate(model, test_iterator, criterion)\n",
        "print(f'Test Loss: {test_loss:.3f} | Test Acc: {test_acc*100:.2f}%')"
      ],
      "execution_count": 24,
      "outputs": [
        {
          "output_type": "stream",
          "name": "stdout",
          "text": [
            "Epoch: 01 | Epoch Time: 0m 6s\n",
            "\tTrain Loss: 0.604 | Train Acc: 70.41%\n",
            "\t Val. Loss: 0.600 |  Val. Acc: 70.31%\n",
            "Epoch: 02 | Epoch Time: 0m 6s\n",
            "\tTrain Loss: 0.572 | Train Acc: 70.52%\n",
            "\t Val. Loss: 0.551 |  Val. Acc: 70.56%\n",
            "Epoch: 03 | Epoch Time: 0m 6s\n",
            "\tTrain Loss: 0.555 | Train Acc: 71.61%\n",
            "\t Val. Loss: 0.518 |  Val. Acc: 71.73%\n",
            "Epoch: 04 | Epoch Time: 0m 6s\n",
            "\tTrain Loss: 0.529 | Train Acc: 73.38%\n",
            "\t Val. Loss: 0.548 |  Val. Acc: 72.23%\n",
            "Epoch: 05 | Epoch Time: 0m 6s\n",
            "\tTrain Loss: 0.503 | Train Acc: 75.81%\n",
            "\t Val. Loss: 0.561 |  Val. Acc: 72.42%\n",
            "Epoch: 06 | Epoch Time: 0m 6s\n",
            "\tTrain Loss: 0.499 | Train Acc: 75.46%\n",
            "\t Val. Loss: 0.528 |  Val. Acc: 73.56%\n",
            "Epoch: 07 | Epoch Time: 0m 6s\n",
            "\tTrain Loss: 0.476 | Train Acc: 77.85%\n",
            "\t Val. Loss: 0.510 |  Val. Acc: 74.52%\n",
            "Epoch: 08 | Epoch Time: 0m 6s\n",
            "\tTrain Loss: 0.453 | Train Acc: 79.04%\n",
            "\t Val. Loss: 0.515 |  Val. Acc: 73.96%\n",
            "Epoch: 09 | Epoch Time: 0m 6s\n",
            "\tTrain Loss: 0.438 | Train Acc: 79.59%\n",
            "\t Val. Loss: 0.671 |  Val. Acc: 71.85%\n",
            "Epoch: 10 | Epoch Time: 0m 6s\n",
            "\tTrain Loss: 0.436 | Train Acc: 80.19%\n",
            "\t Val. Loss: 0.504 |  Val. Acc: 77.22%\n",
            "Epoch: 11 | Epoch Time: 0m 6s\n",
            "\tTrain Loss: 0.428 | Train Acc: 80.16%\n",
            "\t Val. Loss: 0.484 |  Val. Acc: 76.73%\n",
            "Epoch: 12 | Epoch Time: 0m 6s\n",
            "\tTrain Loss: 0.393 | Train Acc: 82.18%\n",
            "\t Val. Loss: 0.532 |  Val. Acc: 77.22%\n",
            "Epoch: 13 | Epoch Time: 0m 6s\n",
            "\tTrain Loss: 0.381 | Train Acc: 82.51%\n",
            "\t Val. Loss: 0.582 |  Val. Acc: 73.32%\n",
            "Epoch: 14 | Epoch Time: 0m 6s\n",
            "\tTrain Loss: 0.365 | Train Acc: 83.65%\n",
            "\t Val. Loss: 0.559 |  Val. Acc: 76.71%\n",
            "Epoch: 15 | Epoch Time: 0m 6s\n",
            "\tTrain Loss: 0.340 | Train Acc: 85.36%\n",
            "\t Val. Loss: 0.570 |  Val. Acc: 76.12%\n",
            "Epoch: 16 | Epoch Time: 0m 6s\n",
            "\tTrain Loss: 0.335 | Train Acc: 85.11%\n",
            "\t Val. Loss: 0.538 |  Val. Acc: 79.23%\n",
            "Epoch: 17 | Epoch Time: 0m 6s\n",
            "\tTrain Loss: 0.315 | Train Acc: 86.44%\n",
            "\t Val. Loss: 0.554 |  Val. Acc: 77.94%\n",
            "Epoch: 18 | Epoch Time: 0m 6s\n",
            "\tTrain Loss: 0.324 | Train Acc: 86.60%\n",
            "\t Val. Loss: 0.507 |  Val. Acc: 78.20%\n",
            "Epoch: 19 | Epoch Time: 0m 6s\n",
            "\tTrain Loss: 0.292 | Train Acc: 87.34%\n",
            "\t Val. Loss: 0.630 |  Val. Acc: 77.72%\n",
            "Epoch: 20 | Epoch Time: 0m 6s\n",
            "\tTrain Loss: 0.298 | Train Acc: 87.27%\n",
            "\t Val. Loss: 0.687 |  Val. Acc: 78.73%\n",
            "Epoch: 21 | Epoch Time: 0m 6s\n",
            "\tTrain Loss: 0.267 | Train Acc: 88.59%\n",
            "\t Val. Loss: 0.606 |  Val. Acc: 79.49%\n",
            "Epoch: 22 | Epoch Time: 0m 6s\n",
            "\tTrain Loss: 0.256 | Train Acc: 89.29%\n",
            "\t Val. Loss: 0.637 |  Val. Acc: 79.57%\n",
            "Epoch: 23 | Epoch Time: 0m 6s\n",
            "\tTrain Loss: 0.257 | Train Acc: 89.11%\n",
            "\t Val. Loss: 0.703 |  Val. Acc: 78.58%\n",
            "Epoch: 24 | Epoch Time: 0m 6s\n",
            "\tTrain Loss: 0.240 | Train Acc: 89.99%\n",
            "\t Val. Loss: 0.730 |  Val. Acc: 79.52%\n",
            "Epoch: 25 | Epoch Time: 0m 6s\n",
            "\tTrain Loss: 0.235 | Train Acc: 90.54%\n",
            "\t Val. Loss: 0.680 |  Val. Acc: 77.72%\n",
            "Epoch: 26 | Epoch Time: 0m 6s\n",
            "\tTrain Loss: 0.244 | Train Acc: 89.96%\n",
            "\t Val. Loss: 0.756 |  Val. Acc: 77.72%\n",
            "Epoch: 27 | Epoch Time: 0m 6s\n",
            "\tTrain Loss: 0.223 | Train Acc: 90.86%\n",
            "\t Val. Loss: 0.619 |  Val. Acc: 80.66%\n",
            "Epoch: 28 | Epoch Time: 0m 6s\n",
            "\tTrain Loss: 0.203 | Train Acc: 91.45%\n",
            "\t Val. Loss: 0.737 |  Val. Acc: 79.58%\n",
            "Epoch: 29 | Epoch Time: 0m 6s\n",
            "\tTrain Loss: 0.202 | Train Acc: 91.93%\n",
            "\t Val. Loss: 0.810 |  Val. Acc: 78.21%\n",
            "Epoch: 30 | Epoch Time: 0m 6s\n",
            "\tTrain Loss: 0.207 | Train Acc: 91.48%\n",
            "\t Val. Loss: 0.754 |  Val. Acc: 79.93%\n",
            "Epoch: 31 | Epoch Time: 0m 6s\n",
            "\tTrain Loss: 0.190 | Train Acc: 91.98%\n",
            "\t Val. Loss: 0.823 |  Val. Acc: 79.47%\n",
            "Epoch: 32 | Epoch Time: 0m 6s\n",
            "\tTrain Loss: 0.191 | Train Acc: 92.33%\n",
            "\t Val. Loss: 0.708 |  Val. Acc: 80.13%\n",
            "Epoch: 33 | Epoch Time: 0m 6s\n",
            "\tTrain Loss: 0.199 | Train Acc: 91.85%\n",
            "\t Val. Loss: 0.746 |  Val. Acc: 77.88%\n",
            "Epoch: 34 | Epoch Time: 0m 6s\n",
            "\tTrain Loss: 0.172 | Train Acc: 92.82%\n",
            "\t Val. Loss: 0.790 |  Val. Acc: 77.75%\n",
            "Epoch: 35 | Epoch Time: 0m 6s\n",
            "\tTrain Loss: 0.172 | Train Acc: 93.10%\n",
            "\t Val. Loss: 0.843 |  Val. Acc: 77.68%\n",
            "Epoch: 36 | Epoch Time: 0m 6s\n",
            "\tTrain Loss: 0.164 | Train Acc: 93.45%\n",
            "\t Val. Loss: 0.842 |  Val. Acc: 77.06%\n",
            "Epoch: 37 | Epoch Time: 0m 6s\n",
            "\tTrain Loss: 0.158 | Train Acc: 93.81%\n",
            "\t Val. Loss: 0.775 |  Val. Acc: 78.39%\n",
            "Epoch: 38 | Epoch Time: 0m 6s\n",
            "\tTrain Loss: 0.168 | Train Acc: 93.36%\n",
            "\t Val. Loss: 0.780 |  Val. Acc: 78.23%\n",
            "Epoch: 39 | Epoch Time: 0m 6s\n",
            "\tTrain Loss: 0.161 | Train Acc: 93.55%\n",
            "\t Val. Loss: 0.873 |  Val. Acc: 78.87%\n",
            "Epoch: 40 | Epoch Time: 0m 6s\n",
            "\tTrain Loss: 0.153 | Train Acc: 93.89%\n",
            "\t Val. Loss: 0.986 |  Val. Acc: 78.45%\n",
            "Epoch: 41 | Epoch Time: 0m 6s\n",
            "\tTrain Loss: 0.154 | Train Acc: 94.04%\n",
            "\t Val. Loss: 0.905 |  Val. Acc: 78.34%\n",
            "Epoch: 42 | Epoch Time: 0m 6s\n",
            "\tTrain Loss: 0.153 | Train Acc: 93.94%\n",
            "\t Val. Loss: 0.751 |  Val. Acc: 78.11%\n",
            "Epoch: 43 | Epoch Time: 0m 6s\n",
            "\tTrain Loss: 0.132 | Train Acc: 94.76%\n",
            "\t Val. Loss: 0.806 |  Val. Acc: 78.40%\n",
            "Epoch: 44 | Epoch Time: 0m 6s\n",
            "\tTrain Loss: 0.134 | Train Acc: 94.69%\n",
            "\t Val. Loss: 1.062 |  Val. Acc: 79.10%\n",
            "Epoch: 45 | Epoch Time: 0m 6s\n",
            "\tTrain Loss: 0.150 | Train Acc: 94.46%\n",
            "\t Val. Loss: 0.916 |  Val. Acc: 79.53%\n",
            "Epoch: 46 | Epoch Time: 0m 6s\n",
            "\tTrain Loss: 0.133 | Train Acc: 94.60%\n",
            "\t Val. Loss: 0.892 |  Val. Acc: 78.66%\n",
            "Epoch: 47 | Epoch Time: 0m 6s\n",
            "\tTrain Loss: 0.161 | Train Acc: 93.58%\n",
            "\t Val. Loss: 0.928 |  Val. Acc: 78.05%\n",
            "Epoch: 48 | Epoch Time: 0m 6s\n",
            "\tTrain Loss: 0.144 | Train Acc: 94.17%\n",
            "\t Val. Loss: 0.821 |  Val. Acc: 78.76%\n",
            "Epoch: 49 | Epoch Time: 0m 6s\n",
            "\tTrain Loss: 0.130 | Train Acc: 95.17%\n",
            "\t Val. Loss: 0.862 |  Val. Acc: 80.44%\n",
            "Epoch: 50 | Epoch Time: 0m 6s\n",
            "\tTrain Loss: 0.129 | Train Acc: 95.08%\n",
            "\t Val. Loss: 0.940 |  Val. Acc: 78.86%\n",
            "Test Loss: 1.078 | Test Acc: 79.65%\n"
          ]
        }
      ]
    },
    {
      "cell_type": "code",
      "metadata": {
        "id": "dhnGTichuktf"
      },
      "source": [
        "TEXT = data.Field(batch_first = True,\n",
        "                  use_vocab = False,\n",
        "                  tokenize = tokenize_sentence,\n",
        "                  preprocessing = tokenizer.convert_tokens_to_ids,\n",
        "                  init_token = init_token_idx,\n",
        "                  eos_token = eos_token_idx,\n",
        "                  pad_token = pad_token_idx,\n",
        "                  unk_token = unk_token_idx)\n",
        "\n",
        "LABEL = data.LabelField(dtype = torch.float)\n",
        "#First colum has serial num used for random split, ignore it.\n",
        "fields = [(None, None),('label', LABEL), ('text', TEXT)]\n",
        "train_data, valid_data, test_data = data.TabularDataset.splits(\n",
        "                                        path = COLA_model_path,\n",
        "                                        train = 'train_my.csv',\n",
        "                                        validation = 'val_my.csv',\n",
        "                                        test = 'test_org.csv',\n",
        "                                        format = 'csv',\n",
        "                                        fields = fields,\n",
        "                                        skip_header = True)\n",
        "MAX_VOCAB_SIZE = 25_000\n",
        "TEXT.build_vocab(train_data, max_size = MAX_VOCAB_SIZE)\n",
        "LABEL.build_vocab(train_data)\n",
        "BATCH_SIZE = 128\n",
        "device = torch.device('cuda' if torch.cuda.is_available() else 'cpu')\n",
        "\n",
        "train_iterator, valid_iterator, test_iterator = data.BucketIterator.splits(\n",
        "    (train_data, valid_data, test_data), \n",
        "    batch_size = BATCH_SIZE,\n",
        "    shuffle=True,\n",
        "    sort=False,\n",
        "    device = device)"
      ],
      "execution_count": 34,
      "outputs": []
    },
    {
      "cell_type": "code",
      "metadata": {
        "id": "LVbt1ACfsB2u"
      },
      "source": [
        "model = BERTSentiment(bert, 1, 0.3)\n",
        "for name, param in model.named_parameters():                \n",
        "    if name.startswith('bert'):\n",
        "        param.requires_grad = False\n",
        "\n",
        "import torch.optim as optim\n",
        "optimizer = optim.Adam(model.parameters())\n",
        "criterion = nn.BCEWithLogitsLoss()\n",
        "device = torch.device('cuda' if torch.cuda.is_available() else 'cpu')\n",
        "model = model.to(device)\n",
        "criterion = criterion.to(device)"
      ],
      "execution_count": 35,
      "outputs": []
    },
    {
      "cell_type": "code",
      "metadata": {
        "colab": {
          "base_uri": "https://localhost:8080/"
        },
        "id": "pulO-dnSu_5O",
        "outputId": "e0155634-73d8-45a7-81dc-90b19e67b4e8"
      },
      "source": [
        "N_EPOCHS = 50\n",
        "\n",
        "best_valid_loss = float('inf')\n",
        "\n",
        "for epoch in range(N_EPOCHS):\n",
        "    \n",
        "    start_time = time.time()\n",
        "    \n",
        "    train_loss, train_acc = train(model, train_iterator, optimizer, criterion)\n",
        "    valid_loss, valid_acc = evaluate(model, valid_iterator, criterion)\n",
        "        \n",
        "    end_time = time.time()\n",
        "        \n",
        "    epoch_mins, epoch_secs = epoch_time(start_time, end_time)\n",
        "        \n",
        "    if valid_loss < best_valid_loss:\n",
        "        best_valid_loss = valid_loss\n",
        "        torch.save(model.state_dict(), 'bert-model.pt')\n",
        "    \n",
        "    print(f'Epoch: {epoch+1:02} | Epoch Time: {epoch_mins}m {epoch_secs}s')\n",
        "    print(f'\\tTrain Loss: {train_loss:.3f} | Train Acc: {train_acc*100:.2f}%')\n",
        "    print(f'\\t Val. Loss: {valid_loss:.3f} |  Val. Acc: {valid_acc*100:.2f}%')\n",
        "\n",
        "test_loss, test_acc = evaluate(model, test_iterator, criterion)\n",
        "print(f'Test Loss: {test_loss:.3f} | Test Acc: {test_acc*100:.2f}%')"
      ],
      "execution_count": 36,
      "outputs": [
        {
          "output_type": "stream",
          "name": "stdout",
          "text": [
            "Epoch: 01 | Epoch Time: 3m 33s\n",
            "\tTrain Loss: 0.642 | Train Acc: 61.68%\n",
            "\t Val. Loss: 0.603 |  Val. Acc: 66.86%\n",
            "Epoch: 02 | Epoch Time: 3m 31s\n",
            "\tTrain Loss: 0.573 | Train Acc: 68.60%\n",
            "\t Val. Loss: 0.546 |  Val. Acc: 70.46%\n",
            "Epoch: 03 | Epoch Time: 3m 33s\n",
            "\tTrain Loss: 0.546 | Train Acc: 70.48%\n",
            "\t Val. Loss: 0.531 |  Val. Acc: 71.78%\n",
            "Epoch: 04 | Epoch Time: 3m 31s\n",
            "\tTrain Loss: 0.532 | Train Acc: 71.31%\n",
            "\t Val. Loss: 0.524 |  Val. Acc: 71.75%\n",
            "Epoch: 05 | Epoch Time: 3m 32s\n",
            "\tTrain Loss: 0.526 | Train Acc: 71.86%\n",
            "\t Val. Loss: 0.513 |  Val. Acc: 72.34%\n",
            "Epoch: 06 | Epoch Time: 3m 31s\n",
            "\tTrain Loss: 0.517 | Train Acc: 72.42%\n",
            "\t Val. Loss: 0.526 |  Val. Acc: 71.90%\n",
            "Epoch: 07 | Epoch Time: 3m 33s\n",
            "\tTrain Loss: 0.515 | Train Acc: 72.53%\n",
            "\t Val. Loss: 0.527 |  Val. Acc: 71.66%\n",
            "Epoch: 08 | Epoch Time: 3m 33s\n",
            "\tTrain Loss: 0.511 | Train Acc: 72.61%\n",
            "\t Val. Loss: 0.517 |  Val. Acc: 72.02%\n",
            "Epoch: 09 | Epoch Time: 3m 30s\n",
            "\tTrain Loss: 0.505 | Train Acc: 73.27%\n",
            "\t Val. Loss: 0.511 |  Val. Acc: 72.49%\n",
            "Epoch: 10 | Epoch Time: 3m 30s\n",
            "\tTrain Loss: 0.502 | Train Acc: 73.50%\n",
            "\t Val. Loss: 0.527 |  Val. Acc: 72.44%\n",
            "Epoch: 11 | Epoch Time: 3m 32s\n",
            "\tTrain Loss: 0.497 | Train Acc: 73.78%\n",
            "\t Val. Loss: 0.512 |  Val. Acc: 72.54%\n",
            "Epoch: 12 | Epoch Time: 3m 31s\n",
            "\tTrain Loss: 0.494 | Train Acc: 73.86%\n",
            "\t Val. Loss: 0.513 |  Val. Acc: 72.52%\n",
            "Epoch: 13 | Epoch Time: 3m 31s\n",
            "\tTrain Loss: 0.491 | Train Acc: 74.07%\n",
            "\t Val. Loss: 0.512 |  Val. Acc: 72.92%\n",
            "Epoch: 14 | Epoch Time: 3m 34s\n",
            "\tTrain Loss: 0.487 | Train Acc: 74.38%\n",
            "\t Val. Loss: 0.513 |  Val. Acc: 72.67%\n",
            "Epoch: 15 | Epoch Time: 3m 31s\n",
            "\tTrain Loss: 0.482 | Train Acc: 74.75%\n",
            "\t Val. Loss: 0.516 |  Val. Acc: 72.70%\n",
            "Epoch: 16 | Epoch Time: 3m 33s\n",
            "\tTrain Loss: 0.480 | Train Acc: 74.94%\n",
            "\t Val. Loss: 0.532 |  Val. Acc: 72.73%\n",
            "Epoch: 17 | Epoch Time: 3m 30s\n",
            "\tTrain Loss: 0.476 | Train Acc: 75.17%\n",
            "\t Val. Loss: 0.521 |  Val. Acc: 71.95%\n",
            "Epoch: 18 | Epoch Time: 3m 32s\n",
            "\tTrain Loss: 0.471 | Train Acc: 75.65%\n",
            "\t Val. Loss: 0.523 |  Val. Acc: 72.24%\n",
            "Epoch: 19 | Epoch Time: 3m 31s\n",
            "\tTrain Loss: 0.467 | Train Acc: 75.79%\n",
            "\t Val. Loss: 0.518 |  Val. Acc: 72.30%\n",
            "Epoch: 20 | Epoch Time: 3m 31s\n",
            "\tTrain Loss: 0.461 | Train Acc: 76.26%\n",
            "\t Val. Loss: 0.531 |  Val. Acc: 72.09%\n",
            "Epoch: 21 | Epoch Time: 3m 32s\n",
            "\tTrain Loss: 0.460 | Train Acc: 76.11%\n",
            "\t Val. Loss: 0.517 |  Val. Acc: 72.98%\n",
            "Epoch: 22 | Epoch Time: 3m 32s\n",
            "\tTrain Loss: 0.450 | Train Acc: 77.06%\n",
            "\t Val. Loss: 0.545 |  Val. Acc: 72.59%\n",
            "Epoch: 23 | Epoch Time: 3m 32s\n",
            "\tTrain Loss: 0.450 | Train Acc: 76.93%\n",
            "\t Val. Loss: 0.546 |  Val. Acc: 71.99%\n",
            "Epoch: 24 | Epoch Time: 3m 32s\n",
            "\tTrain Loss: 0.442 | Train Acc: 77.31%\n",
            "\t Val. Loss: 0.555 |  Val. Acc: 71.70%\n",
            "Epoch: 25 | Epoch Time: 3m 31s\n",
            "\tTrain Loss: 0.437 | Train Acc: 77.84%\n",
            "\t Val. Loss: 0.542 |  Val. Acc: 72.27%\n",
            "Epoch: 26 | Epoch Time: 3m 31s\n",
            "\tTrain Loss: 0.434 | Train Acc: 78.01%\n",
            "\t Val. Loss: 0.524 |  Val. Acc: 73.22%\n",
            "Epoch: 27 | Epoch Time: 3m 31s\n",
            "\tTrain Loss: 0.428 | Train Acc: 78.46%\n",
            "\t Val. Loss: 0.533 |  Val. Acc: 71.83%\n",
            "Epoch: 28 | Epoch Time: 3m 30s\n",
            "\tTrain Loss: 0.424 | Train Acc: 78.47%\n",
            "\t Val. Loss: 0.542 |  Val. Acc: 72.72%\n",
            "Epoch: 29 | Epoch Time: 3m 33s\n",
            "\tTrain Loss: 0.412 | Train Acc: 79.56%\n",
            "\t Val. Loss: 0.555 |  Val. Acc: 72.28%\n",
            "Epoch: 30 | Epoch Time: 3m 31s\n",
            "\tTrain Loss: 0.408 | Train Acc: 79.70%\n",
            "\t Val. Loss: 0.544 |  Val. Acc: 71.81%\n",
            "Epoch: 31 | Epoch Time: 3m 32s\n",
            "\tTrain Loss: 0.404 | Train Acc: 79.87%\n",
            "\t Val. Loss: 0.547 |  Val. Acc: 70.00%\n",
            "Epoch: 32 | Epoch Time: 3m 31s\n",
            "\tTrain Loss: 0.393 | Train Acc: 80.94%\n",
            "\t Val. Loss: 0.548 |  Val. Acc: 72.12%\n",
            "Epoch: 33 | Epoch Time: 3m 32s\n",
            "\tTrain Loss: 0.393 | Train Acc: 80.65%\n",
            "\t Val. Loss: 0.540 |  Val. Acc: 71.94%\n",
            "Epoch: 34 | Epoch Time: 3m 30s\n",
            "\tTrain Loss: 0.384 | Train Acc: 81.15%\n",
            "\t Val. Loss: 0.549 |  Val. Acc: 71.44%\n",
            "Epoch: 35 | Epoch Time: 3m 31s\n",
            "\tTrain Loss: 0.380 | Train Acc: 81.46%\n",
            "\t Val. Loss: 0.566 |  Val. Acc: 71.73%\n",
            "Epoch: 36 | Epoch Time: 3m 32s\n",
            "\tTrain Loss: 0.372 | Train Acc: 81.92%\n",
            "\t Val. Loss: 0.569 |  Val. Acc: 72.39%\n",
            "Epoch: 37 | Epoch Time: 3m 31s\n",
            "\tTrain Loss: 0.367 | Train Acc: 82.24%\n",
            "\t Val. Loss: 0.579 |  Val. Acc: 72.13%\n",
            "Epoch: 38 | Epoch Time: 3m 34s\n",
            "\tTrain Loss: 0.362 | Train Acc: 82.72%\n",
            "\t Val. Loss: 0.580 |  Val. Acc: 71.34%\n",
            "Epoch: 39 | Epoch Time: 3m 30s\n",
            "\tTrain Loss: 0.353 | Train Acc: 83.25%\n",
            "\t Val. Loss: 0.593 |  Val. Acc: 71.79%\n",
            "Epoch: 40 | Epoch Time: 3m 32s\n",
            "\tTrain Loss: 0.352 | Train Acc: 83.36%\n",
            "\t Val. Loss: 0.588 |  Val. Acc: 71.35%\n",
            "Epoch: 41 | Epoch Time: 3m 32s\n",
            "\tTrain Loss: 0.342 | Train Acc: 83.79%\n",
            "\t Val. Loss: 0.612 |  Val. Acc: 72.29%\n",
            "Epoch: 42 | Epoch Time: 3m 32s\n",
            "\tTrain Loss: 0.339 | Train Acc: 83.97%\n",
            "\t Val. Loss: 0.607 |  Val. Acc: 70.80%\n",
            "Epoch: 43 | Epoch Time: 3m 32s\n",
            "\tTrain Loss: 0.338 | Train Acc: 84.04%\n",
            "\t Val. Loss: 0.604 |  Val. Acc: 71.17%\n",
            "Epoch: 44 | Epoch Time: 3m 33s\n",
            "\tTrain Loss: 0.333 | Train Acc: 84.40%\n",
            "\t Val. Loss: 0.603 |  Val. Acc: 70.59%\n",
            "Epoch: 45 | Epoch Time: 3m 31s\n",
            "\tTrain Loss: 0.322 | Train Acc: 85.11%\n",
            "\t Val. Loss: 0.671 |  Val. Acc: 71.07%\n",
            "Epoch: 46 | Epoch Time: 3m 32s\n",
            "\tTrain Loss: 0.324 | Train Acc: 84.88%\n",
            "\t Val. Loss: 0.618 |  Val. Acc: 71.50%\n",
            "Epoch: 47 | Epoch Time: 3m 32s\n",
            "\tTrain Loss: 0.317 | Train Acc: 85.28%\n",
            "\t Val. Loss: 0.652 |  Val. Acc: 71.13%\n",
            "Epoch: 48 | Epoch Time: 3m 32s\n",
            "\tTrain Loss: 0.316 | Train Acc: 85.60%\n",
            "\t Val. Loss: 0.645 |  Val. Acc: 71.26%\n",
            "Epoch: 49 | Epoch Time: 3m 31s\n",
            "\tTrain Loss: 0.307 | Train Acc: 85.98%\n",
            "\t Val. Loss: 0.631 |  Val. Acc: 72.06%\n",
            "Epoch: 50 | Epoch Time: 3m 32s\n",
            "\tTrain Loss: 0.308 | Train Acc: 86.22%\n",
            "\t Val. Loss: 0.642 |  Val. Acc: 70.90%\n",
            "Test Loss: 5.083 | Test Acc: 39.94%\n"
          ]
        }
      ]
    }
  ]
}