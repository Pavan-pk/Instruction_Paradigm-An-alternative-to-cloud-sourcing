{
  "nbformat": 4,
  "nbformat_minor": 0,
  "metadata": {
    "colab": {
      "name": "MNLI_datset.ipynb",
      "provenance": [],
      "machine_shape": "hm"
    },
    "kernelspec": {
      "name": "python3",
      "display_name": "Python 3"
    },
    "language_info": {
      "name": "python"
    },
    "accelerator": "GPU"
  },
  "cells": [
    {
      "cell_type": "code",
      "metadata": {
        "id": "Xx4y1QvirSne"
      },
      "source": [
        "# Original dataset is downloaded from https://cims.nyu.edu/~sbowman/multinli/\n",
        "# It is in form of txt file and has parse tree along with the data, \n",
        "# I am filtering these data to just have premise, hypothesis and Label.\n",
        "# Using multiple negative ranking loss.\n",
        "# Using https://sbert.net/datasets/stsbenchmark.tsv.gz for bench marking the model."
      ],
      "execution_count": 1,
      "outputs": []
    },
    {
      "cell_type": "code",
      "metadata": {
        "id": "9LB9BWSVrnT2"
      },
      "source": [
        "import csv\n",
        "def map_MNLI_dataset_to_csv():\n",
        "    DATASET_TXT = \"multinli_1.0_train.txt\"\n",
        "    ORIGINAL_DATSET = \"MultiNLI_datset.csv\"\n",
        "    HEADER = ['Premise', 'Hypothesis', 'Label']\n",
        "\n",
        "    with open(DATASET_TXT, 'r') as fd:\n",
        "        lines = fd.readlines()[1:]\n",
        "        with open(ORIGINAL_DATSET, 'w', newline='') as fw:\n",
        "            csv_writer = csv.writer(fw)\n",
        "            csv_writer.writerow(HEADER)\n",
        "            for line in lines:\n",
        "                text = line.strip().split('\\t')\n",
        "                p, h, label = text[-5].strip(), text[-6].strip(), text[0].strip()\n",
        "                csv_writer.writerow([p, h, label])\n",
        "\n",
        "# map_MNLI_dataset_to_csv()"
      ],
      "execution_count": 3,
      "outputs": []
    },
    {
      "cell_type": "code",
      "metadata": {
        "colab": {
          "base_uri": "https://localhost:8080/"
        },
        "id": "SlkKDfhntT8w",
        "outputId": "5ec03afd-c0d7-4b4d-f090-7be803c1eb03"
      },
      "source": [
        "from google.colab import drive\n",
        "drive.mount('/content/drive')"
      ],
      "execution_count": 4,
      "outputs": [
        {
          "output_type": "stream",
          "name": "stdout",
          "text": [
            "Drive already mounted at /content/drive; to attempt to forcibly remount, call drive.mount(\"/content/drive\", force_remount=True).\n"
          ]
        }
      ]
    },
    {
      "cell_type": "code",
      "metadata": {
        "id": "a4kMuHucruCH"
      },
      "source": [
        "import os\n",
        "import torch\n",
        "import random\n",
        "import numpy as np\n",
        "import pandas as pd\n",
        "import matplotlib.pyplot as plt\n",
        "\n",
        "MNLI_model_path = \"MNLI_model\"\n",
        "os.chdir('/content/drive/MyDrive/Studies/NLP_PROJECT')"
      ],
      "execution_count": 5,
      "outputs": []
    },
    {
      "cell_type": "code",
      "metadata": {
        "id": "IzcfwvuItPP3"
      },
      "source": [
        "DATASET_COLUMNS_MNLI = ['Premise', 'Hypothesis', 'Label']\n",
        "DATASET_ENCODING = \"ISO-8859-1\"\n",
        "org_dataset = pd.read_csv('MultiNLI_datset.csv', encoding=DATASET_ENCODING, names=DATASET_COLUMNS_MNLI, usecols=DATASET_COLUMNS_MNLI, header=None)\n",
        "my_dataset = pd.read_csv('premise_hypo_dataset.csv', encoding=DATASET_ENCODING, names=DATASET_COLUMNS_MNLI, usecols=DATASET_COLUMNS_MNLI, header=None)\n",
        "# dataset = pd.read_csv('training.1600000.processed.noemoticon.csv', encoding=DATASET_ENCODING, names=DATASET_COLUMNS, usecols=[q1, q2, is_duplicate], header=Noneencoding=DATASET_ENCODING, names=DATASET_COLUMNS, usecols=['target', 'text'], header=None)"
      ],
      "execution_count": 6,
      "outputs": []
    },
    {
      "cell_type": "code",
      "metadata": {
        "colab": {
          "base_uri": "https://localhost:8080/"
        },
        "id": "27JWVepbuFwK",
        "outputId": "14c32ec5-69bf-4241-ba2f-cead0814fcb4"
      },
      "source": [
        "print(org_dataset.head(), my_dataset.head())"
      ],
      "execution_count": 7,
      "outputs": [
        {
          "output_type": "stream",
          "name": "stdout",
          "text": [
            "                                             Premise  ...       Label\n",
            "0                                            Premise  ...       Label\n",
            "1  Product and geography are what make cream skim...  ...     neutral\n",
            "2  You lose the things to the following level if ...  ...  entailment\n",
            "3  A member of my team will execute your orders w...  ...  entailment\n",
            "4                  This information belongs to them.  ...  entailment\n",
            "\n",
            "[5 rows x 3 columns]                                              Premise  ...       Label\n",
            "0                                            Premise  ...       Label\n",
            "1  A young girl in black shorts is doing yard wor...  ...  entailment\n",
            "2  A woman is making a telephone call and gets in...  ...  entailment\n",
            "3  While on a class field trip in the fall, two f...  ...     neutral\n",
            "4  A man is shown speaking to the camera while be...  ...     neutral\n",
            "\n",
            "[5 rows x 3 columns]\n"
          ]
        }
      ]
    },
    {
      "cell_type": "code",
      "metadata": {
        "colab": {
          "base_uri": "https://localhost:8080/"
        },
        "id": "LBqyVUOpunA3",
        "outputId": "054e5f73-4f90-4d82-f7df-7069791fdf03"
      },
      "source": [
        "org_dataset = org_dataset.dropna()\n",
        "org_dataset.isnull().sum()"
      ],
      "execution_count": 8,
      "outputs": [
        {
          "output_type": "execute_result",
          "data": {
            "text/plain": [
              "Premise       0\n",
              "Hypothesis    0\n",
              "Label         0\n",
              "dtype: int64"
            ]
          },
          "metadata": {},
          "execution_count": 8
        }
      ]
    },
    {
      "cell_type": "code",
      "metadata": {
        "colab": {
          "base_uri": "https://localhost:8080/"
        },
        "id": "KPK8wg-ButH-",
        "outputId": "619a801b-6796-418d-8201-fc8860a07a03"
      },
      "source": [
        "my_dataset = my_dataset.dropna()\n",
        "my_dataset.isnull().sum()"
      ],
      "execution_count": 9,
      "outputs": [
        {
          "output_type": "execute_result",
          "data": {
            "text/plain": [
              "Premise       0\n",
              "Hypothesis    0\n",
              "Label         0\n",
              "dtype: int64"
            ]
          },
          "metadata": {},
          "execution_count": 9
        }
      ]
    },
    {
      "cell_type": "code",
      "metadata": {
        "colab": {
          "base_uri": "https://localhost:8080/",
          "height": 296
        },
        "id": "HwLJ5Ag0v6V-",
        "outputId": "47094c02-380c-4832-d44c-a0e3780772df"
      },
      "source": [
        "import seaborn as sns\n",
        "sns.countplot(x='Label', data=org_dataset)\n",
        "print(org_dataset.shape)"
      ],
      "execution_count": 10,
      "outputs": [
        {
          "output_type": "stream",
          "name": "stdout",
          "text": [
            "(392663, 3)\n"
          ]
        },
        {
          "output_type": "display_data",
          "data": {
            "image/png": "[encoded data removed]",
            "text/plain": [
              "<Figure size 432x288 with 1 Axes>"
            ]
          },
          "metadata": {
            "needs_background": "light"
          }
        }
      ]
    },
    {
      "cell_type": "code",
      "metadata": {
        "colab": {
          "base_uri": "https://localhost:8080/",
          "height": 296
        },
        "id": "Ab0kIU_fv-vM",
        "outputId": "de98a842-df7b-40a2-9025-e6f1a1daede0"
      },
      "source": [
        "sns.countplot(x='Label', data=my_dataset)\n",
        "print(my_dataset.shape)"
      ],
      "execution_count": 11,
      "outputs": [
        {
          "output_type": "stream",
          "name": "stdout",
          "text": [
            "(20995, 3)\n"
          ]
        },
        {
          "output_type": "display_data",
          "data": {
            "image/png": "[encoded data removed]",
            "text/plain": [
              "<Figure size 432x288 with 1 Axes>"
            ]
          },
          "metadata": {
            "needs_background": "light"
          }
        }
      ]
    },
    {
      "cell_type": "code",
      "metadata": {
        "colab": {
          "base_uri": "https://localhost:8080/"
        },
        "id": "MMOvA1I-uMcV",
        "outputId": "dd4c8b23-e836-4247-9166-c66692f1afe6"
      },
      "source": [
        "print(org_dataset.shape)\n",
        "org_dataset.info()\n",
        "print(org_dataset.Label.unique())\n",
        "print(\"\\n\"+\"#\"*80)\n",
        "print(my_dataset.shape)\n",
        "my_dataset.info()\n",
        "print(my_dataset.Label.unique())"
      ],
      "execution_count": 12,
      "outputs": [
        {
          "output_type": "stream",
          "name": "stdout",
          "text": [
            "(392663, 3)\n",
            "<class 'pandas.core.frame.DataFrame'>\n",
            "Int64Index: 392663 entries, 0 to 392702\n",
            "Data columns (total 3 columns):\n",
            " #   Column      Non-Null Count   Dtype \n",
            "---  ------      --------------   ----- \n",
            " 0   Premise     392663 non-null  object\n",
            " 1   Hypothesis  392663 non-null  object\n",
            " 2   Label       392663 non-null  object\n",
            "dtypes: object(3)\n",
            "memory usage: 22.0+ MB\n",
            "['Label' 'neutral' 'entailment' 'contradiction']\n",
            "\n",
            "################################################################################\n",
            "(20995, 3)\n",
            "<class 'pandas.core.frame.DataFrame'>\n",
            "Int64Index: 20995 entries, 0 to 21525\n",
            "Data columns (total 3 columns):\n",
            " #   Column      Non-Null Count  Dtype \n",
            "---  ------      --------------  ----- \n",
            " 0   Premise     20995 non-null  object\n",
            " 1   Hypothesis  20995 non-null  object\n",
            " 2   Label       20995 non-null  object\n",
            "dtypes: object(3)\n",
            "memory usage: 1.3+ MB\n",
            "['Label' 'entailment' 'neutral' 'contradiction']\n"
          ]
        }
      ]
    },
    {
      "cell_type": "code",
      "metadata": {
        "id": "wI_sfsyou3hj"
      },
      "source": [
        "# Skipping(headers)\n",
        "org_dataset = org_dataset[1:]\n",
        "my_dataset = my_dataset[1:]"
      ],
      "execution_count": 13,
      "outputs": []
    },
    {
      "cell_type": "code",
      "metadata": {
        "id": "MImatYgnwoSg"
      },
      "source": [
        "# So the actual dataset size is ~400k and mine is 21k ~5% of the datset.\n",
        "# Downsample original data to 20944, so both models are trained on same number of data.\n",
        "from sklearn.model_selection import train_test_split\n",
        "sampled_org_dataset, _ = train_test_split(org_dataset, train_size=20995, stratify=org_dataset['Label'])\n",
        "train_org_dataset, validation_org_dataset = train_test_split(sampled_org_dataset, train_size=0.9, stratify=sampled_org_dataset['Label'])\n",
        "train_my_dataset, _ = train_test_split(my_dataset, train_size=0.9, stratify=my_dataset['Label'])"
      ],
      "execution_count": 14,
      "outputs": []
    },
    {
      "cell_type": "code",
      "metadata": {
        "colab": {
          "base_uri": "https://localhost:8080/",
          "height": 296
        },
        "id": "NtGixwQlx-tK",
        "outputId": "f260a188-8ccc-4e0a-965c-7e14acef8f61"
      },
      "source": [
        "sns.countplot(x='Label', data=train_org_dataset)"
      ],
      "execution_count": 15,
      "outputs": [
        {
          "output_type": "execute_result",
          "data": {
            "text/plain": [
              "<matplotlib.axes._subplots.AxesSubplot at 0x7f3ccb3b7c90>"
            ]
          },
          "metadata": {},
          "execution_count": 15
        },
        {
          "output_type": "display_data",
          "data": {
            "image/png": "[encoded data removed]",
            "text/plain": [
              "<Figure size 432x288 with 1 Axes>"
            ]
          },
          "metadata": {
            "needs_background": "light"
          }
        }
      ]
    },
    {
      "cell_type": "code",
      "metadata": {
        "colab": {
          "base_uri": "https://localhost:8080/",
          "height": 296
        },
        "id": "-_mDap9SzBJI",
        "outputId": "1f69a525-cbc4-4a4e-c756-9d348e114e24"
      },
      "source": [
        "sns.countplot(x='Label', data=train_my_dataset)"
      ],
      "execution_count": 16,
      "outputs": [
        {
          "output_type": "execute_result",
          "data": {
            "text/plain": [
              "<matplotlib.axes._subplots.AxesSubplot at 0x7f3cc9a90f50>"
            ]
          },
          "metadata": {},
          "execution_count": 16
        },
        {
          "output_type": "display_data",
          "data": {
            "image/png": "[encoded data removed]",
            "text/plain": [
              "<Figure size 432x288 with 1 Axes>"
            ]
          },
          "metadata": {
            "needs_background": "light"
          }
        }
      ]
    },
    {
      "cell_type": "code",
      "metadata": {
        "id": "IaYdVD621GXB"
      },
      "source": [
        "train_org = \"train_org.csv\"\n",
        "val_org = \"val_org.csv\"\n",
        "train_my = \"my_train.csv\"\n",
        "train_org_dataset.to_csv(os.path.join(MNLI_model_path, train_org))\n",
        "train_my_dataset.to_csv(os.path.join(MNLI_model_path, train_my))\n",
        "validation_org_dataset.to_csv(os.path.join(MNLI_model_path, val_org))"
      ],
      "execution_count": 17,
      "outputs": []
    },
    {
      "cell_type": "code",
      "metadata": {
        "colab": {
          "base_uri": "https://localhost:8080/"
        },
        "id": "NOtZrxQGzNFU",
        "outputId": "ca8a68bc-644e-4a97-ca0e-b769df2cac69"
      },
      "source": [
        "!pip install sentence-transformers"
      ],
      "execution_count": 18,
      "outputs": [
        {
          "output_type": "stream",
          "name": "stdout",
          "text": [
            "Requirement already satisfied: sentence-transformers in /usr/local/lib/python3.7/dist-packages (2.1.0)\n",
            "Requirement already satisfied: tokenizers>=0.10.3 in /usr/local/lib/python3.7/dist-packages (from sentence-transformers) (0.10.3)\n",
            "Requirement already satisfied: nltk in /usr/local/lib/python3.7/dist-packages (from sentence-transformers) (3.2.5)\n",
            "Requirement already satisfied: sentencepiece in /usr/local/lib/python3.7/dist-packages (from sentence-transformers) (0.1.96)\n",
            "Requirement already satisfied: transformers<5.0.0,>=4.6.0 in /usr/local/lib/python3.7/dist-packages (from sentence-transformers) (4.12.5)\n",
            "Requirement already satisfied: scikit-learn in /usr/local/lib/python3.7/dist-packages (from sentence-transformers) (1.0.1)\n",
            "Requirement already satisfied: numpy in /usr/local/lib/python3.7/dist-packages (from sentence-transformers) (1.19.5)\n",
            "Requirement already satisfied: torchvision in /usr/local/lib/python3.7/dist-packages (from sentence-transformers) (0.11.1+cu111)\n",
            "Requirement already satisfied: tqdm in /usr/local/lib/python3.7/dist-packages (from sentence-transformers) (4.62.3)\n",
            "Requirement already satisfied: huggingface-hub in /usr/local/lib/python3.7/dist-packages (from sentence-transformers) (0.2.1)\n",
            "Requirement already satisfied: torch>=1.6.0 in /usr/local/lib/python3.7/dist-packages (from sentence-transformers) (1.10.0+cu111)\n",
            "Requirement already satisfied: scipy in /usr/local/lib/python3.7/dist-packages (from sentence-transformers) (1.4.1)\n",
            "Requirement already satisfied: typing-extensions in /usr/local/lib/python3.7/dist-packages (from torch>=1.6.0->sentence-transformers) (3.10.0.2)\n",
            "Requirement already satisfied: pyyaml>=5.1 in /usr/local/lib/python3.7/dist-packages (from transformers<5.0.0,>=4.6.0->sentence-transformers) (6.0)\n",
            "Requirement already satisfied: filelock in /usr/local/lib/python3.7/dist-packages (from transformers<5.0.0,>=4.6.0->sentence-transformers) (3.4.0)\n",
            "Requirement already satisfied: sacremoses in /usr/local/lib/python3.7/dist-packages (from transformers<5.0.0,>=4.6.0->sentence-transformers) (0.0.46)\n",
            "Requirement already satisfied: requests in /usr/local/lib/python3.7/dist-packages (from transformers<5.0.0,>=4.6.0->sentence-transformers) (2.23.0)\n",
            "Requirement already satisfied: importlib-metadata in /usr/local/lib/python3.7/dist-packages (from transformers<5.0.0,>=4.6.0->sentence-transformers) (4.8.2)\n",
            "Requirement already satisfied: regex!=2019.12.17 in /usr/local/lib/python3.7/dist-packages (from transformers<5.0.0,>=4.6.0->sentence-transformers) (2019.12.20)\n",
            "Requirement already satisfied: packaging>=20.0 in /usr/local/lib/python3.7/dist-packages (from transformers<5.0.0,>=4.6.0->sentence-transformers) (21.3)\n",
            "Requirement already satisfied: pyparsing!=3.0.5,>=2.0.2 in /usr/local/lib/python3.7/dist-packages (from packaging>=20.0->transformers<5.0.0,>=4.6.0->sentence-transformers) (3.0.6)\n",
            "Requirement already satisfied: zipp>=0.5 in /usr/local/lib/python3.7/dist-packages (from importlib-metadata->transformers<5.0.0,>=4.6.0->sentence-transformers) (3.6.0)\n",
            "Requirement already satisfied: six in /usr/local/lib/python3.7/dist-packages (from nltk->sentence-transformers) (1.15.0)\n",
            "Requirement already satisfied: urllib3!=1.25.0,!=1.25.1,<1.26,>=1.21.1 in /usr/local/lib/python3.7/dist-packages (from requests->transformers<5.0.0,>=4.6.0->sentence-transformers) (1.24.3)\n",
            "Requirement already satisfied: idna<3,>=2.5 in /usr/local/lib/python3.7/dist-packages (from requests->transformers<5.0.0,>=4.6.0->sentence-transformers) (2.10)\n",
            "Requirement already satisfied: certifi>=2017.4.17 in /usr/local/lib/python3.7/dist-packages (from requests->transformers<5.0.0,>=4.6.0->sentence-transformers) (2021.10.8)\n",
            "Requirement already satisfied: chardet<4,>=3.0.2 in /usr/local/lib/python3.7/dist-packages (from requests->transformers<5.0.0,>=4.6.0->sentence-transformers) (3.0.4)\n",
            "Requirement already satisfied: click in /usr/local/lib/python3.7/dist-packages (from sacremoses->transformers<5.0.0,>=4.6.0->sentence-transformers) (7.1.2)\n",
            "Requirement already satisfied: joblib in /usr/local/lib/python3.7/dist-packages (from sacremoses->transformers<5.0.0,>=4.6.0->sentence-transformers) (1.1.0)\n",
            "Requirement already satisfied: threadpoolctl>=2.0.0 in /usr/local/lib/python3.7/dist-packages (from scikit-learn->sentence-transformers) (3.0.0)\n",
            "Requirement already satisfied: pillow!=8.3.0,>=5.3.0 in /usr/local/lib/python3.7/dist-packages (from torchvision->sentence-transformers) (7.1.2)\n"
          ]
        }
      ]
    },
    {
      "cell_type": "code",
      "metadata": {
        "id": "r_7Ju2bMz1bL"
      },
      "source": [
        "from sentence_transformers import SentenceTransformer, InputExample, losses, evaluation, datasets\n",
        "from torch.utils.data import DataLoader\n",
        "import csv"
      ],
      "execution_count": 19,
      "outputs": []
    },
    {
      "cell_type": "code",
      "metadata": {
        "id": "20ShalgUz3-A"
      },
      "source": [
        "import gzip\n",
        "train_batch_size = 64\n",
        "margin = 0.5\n",
        "num_epochs = 20"
      ],
      "execution_count": 29,
      "outputs": []
    },
    {
      "cell_type": "code",
      "metadata": {
        "id": "KpzXzKWm0Vhq"
      },
      "source": [
        "org_model = SentenceTransformer('all-MiniLM-L12-v2')\n",
        "train_samples = []\n",
        "label_map = {\"entailment\":1, \"contradiction\":0}\n",
        "with open(os.path.join(MNLI_model_path, train_org), 'r', newline='') as fr:\n",
        "  csv_reader = csv.reader(fr)\n",
        "  next(csv_reader)\n",
        "  for _, s1, s2, label in csv_reader:\n",
        "    if label == \"entailment\":\n",
        "      train_samples.append(InputExample(texts=[s1, s2], label=1))\n",
        "      train_samples.append(InputExample(texts=[s2, s1], label=1))\n",
        "    elif label == \"contradiction\":\n",
        "      train_samples.append(InputExample(texts=[s1, s2], label=0))\n",
        "      train_samples.append(InputExample(texts=[s2, s1], label=0))\n",
        "\n",
        "print(f'Training samples length: {len(train_samples)}')\n",
        "random.shuffle(train_samples)\n",
        "train_dataloader = DataLoader(train_samples, shuffle=True, batch_size=train_batch_size)\n",
        "train_loss = losses.MultipleNegativesRankingLoss(model=org_model)\n",
        "\n",
        "#Read STSbenchmark dataset and use it as evaluator set\n",
        "dev_samples = []\n",
        "with gzip.open(\"stsbenchmark.tsv.gz\", 'rt', encoding='utf8') as fIn:\n",
        "    reader = csv.DictReader(fIn, delimiter='\\t', quoting=csv.QUOTE_NONE)\n",
        "    for row in reader:\n",
        "        if row['split'] == 'dev':\n",
        "            score = float(row['score']) / 5.0 #Normalize score to range 0 ... 1\n",
        "            dev_samples.append(InputExample(texts=[row['sentence1'], row['sentence2']], label=score))\n",
        "\n",
        "evaluator = evaluation.EmbeddingSimilarityEvaluator.from_input_examples(dev_samples, batch_size=train_batch_size, name='org_org_eval')\n",
        "org_model.fit(train_objectives=[(train_dataloader, train_loss)],\n",
        "          evaluator=evaluator,\n",
        "          epochs=num_epochs,\n",
        "          evaluation_steps=int(len(train_dataloader)*0.1),\n",
        "          warmup_steps=1000,\n",
        "          output_path=os.path.join(MNLI_model_path, \"org_org_model\"),\n",
        "          )"
      ],
      "execution_count": null,
      "outputs": []
    },
    {
      "cell_type": "code",
      "metadata": {
        "id": "FTFA1gtGymJv"
      },
      "source": [
        "my_model = SentenceTransformer('all-MiniLM-L12-v2')\n",
        "train_samples = []\n",
        "label_map = {\"entailment\":1, \"contradiction\":0}\n",
        "with open(os.path.join(MNLI_model_path, train_my), 'r', newline='') as fr:\n",
        "  csv_reader = csv.reader(fr)\n",
        "  next(csv_reader)\n",
        "  for _, s1, s2, label in csv_reader:\n",
        "    if label == \"entailment\":\n",
        "      train_samples.append(InputExample(texts=[s1, s2], label=1))\n",
        "      train_samples.append(InputExample(texts=[s2, s1], label=1))\n",
        "    elif label == \"contradiction\":\n",
        "      train_samples.append(InputExample(texts=[s1, s2], label=0))\n",
        "      train_samples.append(InputExample(texts=[s2, s1], label=0))\n",
        "\n",
        "print(f'Training samples length: {len(train_samples)}')\n",
        "random.shuffle(train_samples)\n",
        "train_dataloader = DataLoader(train_samples, shuffle=True, batch_size=train_batch_size)\n",
        "train_loss = losses.MultipleNegativesRankingLoss(model=my_model)\n",
        "\n",
        "#Read STSbenchmark dataset and use it as evaluator set\n",
        "dev_samples = []\n",
        "with gzip.open(\"stsbenchmark.tsv.gz\", 'rt', encoding='utf8') as fIn:\n",
        "    reader = csv.DictReader(fIn, delimiter='\\t', quoting=csv.QUOTE_NONE)\n",
        "    for row in reader:\n",
        "        if row['split'] == 'dev':\n",
        "            score = float(row['score']) / 5.0 #Normalize score to range 0 ... 1\n",
        "            dev_samples.append(InputExample(texts=[row['sentence1'], row['sentence2']], label=score))\n",
        "\n",
        "evaluator = evaluation.EmbeddingSimilarityEvaluator.from_input_examples(dev_samples, batch_size=train_batch_size, name='mine_org_eval')\n",
        "my_model.fit(train_objectives=[(train_dataloader, train_loss)],\n",
        "          evaluator=evaluator,\n",
        "          epochs=num_epochs,\n",
        "          evaluation_steps=int(len(train_dataloader)*0.1),\n",
        "          warmup_steps=1000,\n",
        "          output_path=os.path.join(MNLI_model_path, \"mine_org_model\"),\n",
        "          )"
      ],
      "execution_count": null,
      "outputs": []
    }
  ]
}